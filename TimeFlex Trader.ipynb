{
 "cells": [
  {
   "cell_type": "markdown",
   "metadata": {
    "id": "bYX-1YGhUv4Z"
   },
   "source": [
    "# Data Cleaning and Preprocessing"
   ]
  },
  {
   "cell_type": "code",
   "execution_count": 1,
   "metadata": {},
   "outputs": [
    {
     "name": "stdout",
     "output_type": "stream",
     "text": [
      "                        Datetime    Adj Close        Close         High  \\\n",
      "154895 2024-11-08 14:30:00+00:00  5989.580078  5989.580078  5992.439941   \n",
      "154896 2024-11-08 14:31:00+00:00  5989.694743  5989.694743  5992.525439   \n",
      "154897 2024-11-08 14:32:00+00:00  5989.809408  5989.809408  5992.610937   \n",
      "154898 2024-11-08 14:33:00+00:00  5989.924072  5989.924072  5992.696436   \n",
      "154899 2024-11-08 14:34:00+00:00  5990.038737  5990.038737  5992.781934   \n",
      "...                          ...          ...          ...          ...   \n",
      "160787 2024-12-03 20:26:00+00:00  6049.678581  6049.678581  6051.519303   \n",
      "160788 2024-12-03 20:27:00+00:00  6049.676416  6049.676416  6051.509473   \n",
      "160789 2024-12-03 20:28:00+00:00  6049.674251  6049.674251  6051.499642   \n",
      "160790 2024-12-03 20:29:00+00:00  6049.672087  6049.672087  6051.489811   \n",
      "160791 2024-12-03 20:30:00+00:00  6049.669922  6049.669922  6051.479980   \n",
      "\n",
      "                Low         Open        Volume  \n",
      "154895  5976.759766  5976.759766  0.000000e+00  \n",
      "154896  5976.966439  5976.973104  5.615719e+06  \n",
      "154897  5977.173112  5977.186442  1.123144e+07  \n",
      "154898  5977.379785  5977.399780  1.684716e+07  \n",
      "154899  5977.586458  5977.613118  2.246288e+07  \n",
      "...             ...          ...           ...  \n",
      "160787  6045.478158  6049.539128  3.356094e+08  \n",
      "160788  6045.466162  6049.599292  3.376168e+08  \n",
      "160789  6045.454167  6049.659456  3.396242e+08  \n",
      "160790  6045.442171  6049.719621  3.416316e+08  \n",
      "160791  6045.430176  6049.779785  3.436390e+08  \n",
      "\n",
      "[5897 rows x 7 columns]\n"
     ]
    }
   ],
   "source": [
    "import pandas as pd\n",
    "\n",
    "# Load your dataset and parse the 'Datetime' column\n",
    "data = pd.read_csv('final_resampled_data_1min_1hr.csv', parse_dates=['Datetime'])\n",
    "\n",
    "# Convert 'Datetime' to timezone-aware if it's not already\n",
    "data['Datetime'] = pd.to_datetime(data['Datetime'], utc=True)\n",
    "\n",
    "# Get the current date and time in UTC for comparison\n",
    "last_six_months = pd.Timestamp.now(tz='UTC') - pd.DateOffset(months=1)\n",
    "\n",
    "# Filter for the last six months\n",
    "filtered_data = data[data['Datetime'] >= last_six_months]\n",
    "\n",
    "# Display the filtered data\n",
    "print(filtered_data)\n",
    "\n",
    "# Save the filtered dataset if needed\n",
    "filtered_data.to_csv('hybrid.csv', index=False)"
   ]
  },
  {
   "cell_type": "code",
   "execution_count": 2,
   "metadata": {
    "id": "UlrYy69YU0Sm"
   },
   "outputs": [],
   "source": [
    "import pandas as pd\n",
    "import numpy as np\n",
    "from scipy import stats\n",
    "import pandas as pd\n",
    "lstm_data = pd.read_csv(\"filtered_last_two_months.csv\")\n",
    "transformer_data = pd.read_csv(\"final_resampled_data_1min_1hr.csv\")\n",
    "hybrid_data = pd.read_csv(\"hybrid.csv\")"
   ]
  },
  {
   "cell_type": "markdown",
   "metadata": {
    "id": "vHCEPt2vU0yH"
   },
   "source": [
    "# Feature Engineering"
   ]
  },
  {
   "cell_type": "code",
   "execution_count": 3,
   "metadata": {
    "id": "W7nirDB9U3-l"
   },
   "outputs": [
    {
     "name": "stderr",
     "output_type": "stream",
     "text": [
      "/var/folders/m6/jy00w6796tqgk13k3clbk3d40000gn/T/ipykernel_54725/3770388927.py:18: RuntimeWarning: Precision loss occurred in moment calculation due to catastrophic cancellation. This occurs when the data are nearly identical. Results may be unreliable.\n",
      "  df['RollingSkew_5'] = df['Close'].rolling(window=window).apply(lambda x: stats.skew(x), raw=True)\n"
     ]
    }
   ],
   "source": [
    "def derive_features(df):\n",
    "    # Ensure 'Datetime' is in the correct format and set as the index if necessary\n",
    "    df['Datetime'] = pd.to_datetime(df['Datetime'], utc=True)\n",
    "\n",
    "    # Time-based features\n",
    "    df['Hour'] = df['Datetime'].dt.hour\n",
    "    df['DayOfWeek'] = df['Datetime'].dt.dayofweek\n",
    "    df['Quarter'] = df['Datetime'].dt.quarter\n",
    "    df['IsWeekend'] = df['DayOfWeek'].isin([5, 6]).astype(int)\n",
    "\n",
    "    # PriceChangePct (percentage change in 'Close' price)\n",
    "    df['PriceChangePct'] = df['Close'].pct_change()\n",
    "\n",
    "    # Rolling window features (15-period rolling)\n",
    "    window = 5\n",
    "    df['RollingMean_5'] = df['Close'].rolling(window=window).mean()\n",
    "    df['RollingStd_5'] = df['Close'].rolling(window=window).std()\n",
    "    df['RollingSkew_5'] = df['Close'].rolling(window=window).apply(lambda x: stats.skew(x), raw=True)\n",
    "\n",
    "    # Exponential moving average (15-period EMA)\n",
    "    df['EMA_5'] = df['Close'].ewm(span=window, adjust=False).mean()\n",
    "\n",
    "    # Volatility (5-minute rolling standard deviation of PriceChangePct)\n",
    "    df['Volatility_5min'] = df['PriceChangePct'].rolling(window=5).std()\n",
    "\n",
    "    # Volume change\n",
    "    df['VolumeChange'] = df['Volume'].diff()\n",
    "\n",
    "    # Select the relevant columns for output\n",
    "    columns_to_extract = [\n",
    "        'Adj Close', 'Close', 'High', 'Low', 'Open', 'Volume',\n",
    "        'Hour', 'DayOfWeek', 'Quarter', 'IsWeekend',\n",
    "        'PriceChangePct', 'RollingMean_5', 'RollingStd_5',\n",
    "        'RollingSkew_5', 'EMA_5', 'Volatility_5min', 'VolumeChange'\n",
    "    ]\n",
    "\n",
    "    # Return the DataFrame with the selected columns\n",
    "    return df[columns_to_extract]\n",
    "\n",
    "lstm_derived_data = derive_features(lstm_data)\n",
    "transformer_derived_data = derive_features(transformer_data)\n",
    "hybrid_derived_data = derive_features(hybrid_data)"
   ]
  },
  {
   "cell_type": "code",
   "execution_count": 5,
   "metadata": {
    "colab": {
     "base_uri": "https://localhost:8080/"
    },
    "id": "riTv1gqTWvpD",
    "outputId": "a3d17c7f-1679-4e5a-b9bf-1ab7cb800fd5"
   },
   "outputs": [
    {
     "name": "stderr",
     "output_type": "stream",
     "text": [
      "/var/folders/m6/jy00w6796tqgk13k3clbk3d40000gn/T/ipykernel_54725/3668874416.py:19: SettingWithCopyWarning: \n",
      "A value is trying to be set on a copy of a slice from a DataFrame.\n",
      "Try using .loc[row_indexer,col_indexer] = value instead\n",
      "\n",
      "See the caveats in the documentation: https://pandas.pydata.org/pandas-docs/stable/user_guide/indexing.html#returning-a-view-versus-a-copy\n",
      "  df[columns_to_normalize] = scaler.fit_transform(df[columns_to_normalize])\n",
      "/var/folders/m6/jy00w6796tqgk13k3clbk3d40000gn/T/ipykernel_54725/3668874416.py:19: SettingWithCopyWarning: \n",
      "A value is trying to be set on a copy of a slice from a DataFrame.\n",
      "Try using .loc[row_indexer,col_indexer] = value instead\n",
      "\n",
      "See the caveats in the documentation: https://pandas.pydata.org/pandas-docs/stable/user_guide/indexing.html#returning-a-view-versus-a-copy\n",
      "  df[columns_to_normalize] = scaler.fit_transform(df[columns_to_normalize])\n",
      "/var/folders/m6/jy00w6796tqgk13k3clbk3d40000gn/T/ipykernel_54725/3668874416.py:19: SettingWithCopyWarning: \n",
      "A value is trying to be set on a copy of a slice from a DataFrame.\n",
      "Try using .loc[row_indexer,col_indexer] = value instead\n",
      "\n",
      "See the caveats in the documentation: https://pandas.pydata.org/pandas-docs/stable/user_guide/indexing.html#returning-a-view-versus-a-copy\n",
      "  df[columns_to_normalize] = scaler.fit_transform(df[columns_to_normalize])\n"
     ]
    }
   ],
   "source": [
    "from sklearn.preprocessing import MinMaxScaler\n",
    "import pandas as pd\n",
    "import numpy as np\n",
    "\n",
    "def preprocess_and_normalize(df):\n",
    "\n",
    "    df.loc[:, :] = df.ffill().bfill()\n",
    "\n",
    "    columns_to_normalize = [\n",
    "        'Adj Close', 'Close', 'High', 'Low', 'Open', 'Volume',\n",
    "        'PriceChangePct', 'RollingMean_5', 'RollingStd_5',\n",
    "        'RollingSkew_5', 'EMA_5', 'Volatility_5min', 'VolumeChange'\n",
    "    ]\n",
    "\n",
    "    # Initialize the scaler\n",
    "    scaler = MinMaxScaler()\n",
    "\n",
    "    # Normalize the selected columns\n",
    "    df[columns_to_normalize] = scaler.fit_transform(df[columns_to_normalize])\n",
    "\n",
    "    return df\n",
    "\n",
    "# Preprocess and normalize the data\n",
    "lstm_normalized = preprocess_and_normalize(lstm_derived_data)\n",
    "transformer_normalized = preprocess_and_normalize(transformer_derived_data)\n",
    "hybrid_normalized = preprocess_and_normalize(hybrid_derived_data)"
   ]
  },
  {
   "cell_type": "code",
   "execution_count": null,
   "metadata": {},
   "outputs": [],
   "source": [
    "graphdata = lstm_normalized[(lstm_normalized['Datetime'].dt.year == 2024) & (lstm_normalized['Datetime'].dt.month == 11)]\n",
    "\n",
    "plt.figure(figsize=(12, 6))\n",
    "plt.plot(graphdata['Datetime'], graphdata['Adj Close'], label='Data in November', color='blue')\n",
    "\n",
    "# Adding labels and title\n",
    "plt.title('Data Visualization for November', fontsize=16)\n",
    "plt.xlabel('Timestamp', fontsize=12)\n",
    "plt.ylabel('Value', fontsize=12)\n",
    "plt.xticks(rotation=45)\n",
    "plt.legend()\n",
    "plt.grid()\n",
    "\n",
    "# Show the plot\n",
    "plt.tight_layout()\n",
    "plt.show()"
   ]
  },
  {
   "cell_type": "code",
   "execution_count": 6,
   "metadata": {},
   "outputs": [
    {
     "name": "stdout",
     "output_type": "stream",
     "text": [
      "Index(['Adj Close', 'Close', 'High', 'Low', 'Open', 'Volume', 'Hour',\n",
      "       'DayOfWeek', 'Quarter', 'IsWeekend', 'PriceChangePct', 'RollingMean_5',\n",
      "       'RollingStd_5', 'RollingSkew_5', 'EMA_5', 'Volatility_5min',\n",
      "       'VolumeChange'],\n",
      "      dtype='object')\n",
      "Index(['Adj Close', 'Close', 'High', 'Low', 'Open', 'Volume', 'Hour',\n",
      "       'DayOfWeek', 'Quarter', 'IsWeekend', 'PriceChangePct', 'RollingMean_5',\n",
      "       'RollingStd_5', 'RollingSkew_5', 'EMA_5', 'Volatility_5min',\n",
      "       'VolumeChange'],\n",
      "      dtype='object')\n",
      "Index(['Adj Close', 'Close', 'High', 'Low', 'Open', 'Volume', 'Hour',\n",
      "       'DayOfWeek', 'Quarter', 'IsWeekend', 'PriceChangePct', 'RollingMean_5',\n",
      "       'RollingStd_5', 'RollingSkew_5', 'EMA_5', 'Volatility_5min',\n",
      "       'VolumeChange'],\n",
      "      dtype='object')\n"
     ]
    }
   ],
   "source": [
    "print(hybrid_normalized.columns)\n",
    "print(lstm_normalized.columns)\n",
    "print(transformer_normalized.columns)"
   ]
  },
  {
   "cell_type": "markdown",
   "metadata": {
    "id": "OP4YGJRFVFGg"
   },
   "source": [
    "# LSTM data sequence"
   ]
  },
  {
   "cell_type": "code",
   "execution_count": 7,
   "metadata": {
    "colab": {
     "base_uri": "https://localhost:8080/"
    },
    "id": "p6EU_3jkVK9B",
    "outputId": "002d8da6-d6f5-438d-d36d-379a1011622a"
   },
   "outputs": [
    {
     "name": "stdout",
     "output_type": "stream",
     "text": [
      "Training set shape: (10415, 60, 16), (10415,)\n",
      "Testing set shape: (2604, 60, 16), (2604,)\n"
     ]
    }
   ],
   "source": [
    "import numpy as np\n",
    "import pandas as pd\n",
    "from sklearn.model_selection import TimeSeriesSplit\n",
    "from tensorflow.keras.models import Sequential\n",
    "from tensorflow.keras.layers import LSTM, Dense, Dropout\n",
    "from tensorflow.keras.optimizers import Adam\n",
    "from sklearn.model_selection import train_test_split\n",
    "\n",
    "\n",
    "def create_sequences(data, target_col, sequence_length=60):\n",
    "    sequences = []\n",
    "    targets = []\n",
    "    for i in range(len(data) - sequence_length):\n",
    "        seq = data.iloc[i:i+sequence_length].drop(columns=[target_col]).values\n",
    "        target = data.iloc[i+sequence_length][target_col]\n",
    "        sequences.append(seq)\n",
    "        targets.append(target)\n",
    "    return np.array(sequences), np.array(targets)\n",
    "\n",
    "sequence_length = 60\n",
    "target_col = 'Adj Close'\n",
    "\n",
    "X, y = create_sequences(lstm_normalized, target_col, sequence_length)\n",
    "test_size = 0.2\n",
    "test_split_index = int(len(X) * (1 - test_size))\n",
    "\n",
    "Lstm_X_train, Lstm_X_test = X[:test_split_index], X[test_split_index:]\n",
    "Lstm_y_train, Lstm_y_test = y[:test_split_index], y[test_split_index:]\n",
    "\n",
    "print(f\"Training set shape: {Lstm_X_train.shape}, {Lstm_y_train.shape}\")\n",
    "print(f\"Testing set shape: {Lstm_X_test.shape}, {Lstm_y_test.shape}\")"
   ]
  },
  {
   "cell_type": "markdown",
   "metadata": {
    "id": "FC152iajU8D9"
   },
   "source": [
    "# LSTM Training"
   ]
  },
  {
   "cell_type": "code",
   "execution_count": 8,
   "metadata": {
    "colab": {
     "base_uri": "https://localhost:8080/",
     "height": 383
    },
    "id": "2TZBiFxrU9-d",
    "outputId": "70aae9ff-151d-4655-9319-1b34ffd830b2"
   },
   "outputs": [
    {
     "name": "stderr",
     "output_type": "stream",
     "text": [
      "/Library/Frameworks/Python.framework/Versions/3.12/lib/python3.12/site-packages/keras/src/layers/rnn/rnn.py:205: UserWarning: Do not pass an `input_shape`/`input_dim` argument to a layer. When using Sequential models, prefer using an `Input(shape)` object as the first layer in the model instead.\n",
      "  super().__init__(**kwargs)\n"
     ]
    },
    {
     "data": {
      "text/html": [
       "<pre style=\"white-space:pre;overflow-x:auto;line-height:normal;font-family:Menlo,'DejaVu Sans Mono',consolas,'Courier New',monospace\"><span style=\"font-weight: bold\">Model: \"sequential\"</span>\n",
       "</pre>\n"
      ],
      "text/plain": [
       "\u001b[1mModel: \"sequential\"\u001b[0m\n"
      ]
     },
     "metadata": {},
     "output_type": "display_data"
    },
    {
     "data": {
      "text/html": [
       "<pre style=\"white-space:pre;overflow-x:auto;line-height:normal;font-family:Menlo,'DejaVu Sans Mono',consolas,'Courier New',monospace\">┏━━━━━━━━━━━━━━━━━━━━━━━━━━━━━━━━━┳━━━━━━━━━━━━━━━━━━━━━━━━┳━━━━━━━━━━━━━━━┓\n",
       "┃<span style=\"font-weight: bold\"> Layer (type)                    </span>┃<span style=\"font-weight: bold\"> Output Shape           </span>┃<span style=\"font-weight: bold\">       Param # </span>┃\n",
       "┡━━━━━━━━━━━━━━━━━━━━━━━━━━━━━━━━━╇━━━━━━━━━━━━━━━━━━━━━━━━╇━━━━━━━━━━━━━━━┩\n",
       "│ lstm (<span style=\"color: #0087ff; text-decoration-color: #0087ff\">LSTM</span>)                     │ (<span style=\"color: #00d7ff; text-decoration-color: #00d7ff\">None</span>, <span style=\"color: #00af00; text-decoration-color: #00af00\">60</span>, <span style=\"color: #00af00; text-decoration-color: #00af00\">256</span>)        │       <span style=\"color: #00af00; text-decoration-color: #00af00\">279,552</span> │\n",
       "├─────────────────────────────────┼────────────────────────┼───────────────┤\n",
       "│ dropout (<span style=\"color: #0087ff; text-decoration-color: #0087ff\">Dropout</span>)               │ (<span style=\"color: #00d7ff; text-decoration-color: #00d7ff\">None</span>, <span style=\"color: #00af00; text-decoration-color: #00af00\">60</span>, <span style=\"color: #00af00; text-decoration-color: #00af00\">256</span>)        │             <span style=\"color: #00af00; text-decoration-color: #00af00\">0</span> │\n",
       "├─────────────────────────────────┼────────────────────────┼───────────────┤\n",
       "│ lstm_1 (<span style=\"color: #0087ff; text-decoration-color: #0087ff\">LSTM</span>)                   │ (<span style=\"color: #00d7ff; text-decoration-color: #00d7ff\">None</span>, <span style=\"color: #00af00; text-decoration-color: #00af00\">128</span>)            │       <span style=\"color: #00af00; text-decoration-color: #00af00\">197,120</span> │\n",
       "├─────────────────────────────────┼────────────────────────┼───────────────┤\n",
       "│ dropout_1 (<span style=\"color: #0087ff; text-decoration-color: #0087ff\">Dropout</span>)             │ (<span style=\"color: #00d7ff; text-decoration-color: #00d7ff\">None</span>, <span style=\"color: #00af00; text-decoration-color: #00af00\">128</span>)            │             <span style=\"color: #00af00; text-decoration-color: #00af00\">0</span> │\n",
       "├─────────────────────────────────┼────────────────────────┼───────────────┤\n",
       "│ dense (<span style=\"color: #0087ff; text-decoration-color: #0087ff\">Dense</span>)                   │ (<span style=\"color: #00d7ff; text-decoration-color: #00d7ff\">None</span>, <span style=\"color: #00af00; text-decoration-color: #00af00\">10</span>)             │         <span style=\"color: #00af00; text-decoration-color: #00af00\">1,290</span> │\n",
       "├─────────────────────────────────┼────────────────────────┼───────────────┤\n",
       "│ dense_1 (<span style=\"color: #0087ff; text-decoration-color: #0087ff\">Dense</span>)                 │ (<span style=\"color: #00d7ff; text-decoration-color: #00d7ff\">None</span>, <span style=\"color: #00af00; text-decoration-color: #00af00\">1</span>)              │            <span style=\"color: #00af00; text-decoration-color: #00af00\">11</span> │\n",
       "└─────────────────────────────────┴────────────────────────┴───────────────┘\n",
       "</pre>\n"
      ],
      "text/plain": [
       "┏━━━━━━━━━━━━━━━━━━━━━━━━━━━━━━━━━┳━━━━━━━━━━━━━━━━━━━━━━━━┳━━━━━━━━━━━━━━━┓\n",
       "┃\u001b[1m \u001b[0m\u001b[1mLayer (type)                   \u001b[0m\u001b[1m \u001b[0m┃\u001b[1m \u001b[0m\u001b[1mOutput Shape          \u001b[0m\u001b[1m \u001b[0m┃\u001b[1m \u001b[0m\u001b[1m      Param #\u001b[0m\u001b[1m \u001b[0m┃\n",
       "┡━━━━━━━━━━━━━━━━━━━━━━━━━━━━━━━━━╇━━━━━━━━━━━━━━━━━━━━━━━━╇━━━━━━━━━━━━━━━┩\n",
       "│ lstm (\u001b[38;5;33mLSTM\u001b[0m)                     │ (\u001b[38;5;45mNone\u001b[0m, \u001b[38;5;34m60\u001b[0m, \u001b[38;5;34m256\u001b[0m)        │       \u001b[38;5;34m279,552\u001b[0m │\n",
       "├─────────────────────────────────┼────────────────────────┼───────────────┤\n",
       "│ dropout (\u001b[38;5;33mDropout\u001b[0m)               │ (\u001b[38;5;45mNone\u001b[0m, \u001b[38;5;34m60\u001b[0m, \u001b[38;5;34m256\u001b[0m)        │             \u001b[38;5;34m0\u001b[0m │\n",
       "├─────────────────────────────────┼────────────────────────┼───────────────┤\n",
       "│ lstm_1 (\u001b[38;5;33mLSTM\u001b[0m)                   │ (\u001b[38;5;45mNone\u001b[0m, \u001b[38;5;34m128\u001b[0m)            │       \u001b[38;5;34m197,120\u001b[0m │\n",
       "├─────────────────────────────────┼────────────────────────┼───────────────┤\n",
       "│ dropout_1 (\u001b[38;5;33mDropout\u001b[0m)             │ (\u001b[38;5;45mNone\u001b[0m, \u001b[38;5;34m128\u001b[0m)            │             \u001b[38;5;34m0\u001b[0m │\n",
       "├─────────────────────────────────┼────────────────────────┼───────────────┤\n",
       "│ dense (\u001b[38;5;33mDense\u001b[0m)                   │ (\u001b[38;5;45mNone\u001b[0m, \u001b[38;5;34m10\u001b[0m)             │         \u001b[38;5;34m1,290\u001b[0m │\n",
       "├─────────────────────────────────┼────────────────────────┼───────────────┤\n",
       "│ dense_1 (\u001b[38;5;33mDense\u001b[0m)                 │ (\u001b[38;5;45mNone\u001b[0m, \u001b[38;5;34m1\u001b[0m)              │            \u001b[38;5;34m11\u001b[0m │\n",
       "└─────────────────────────────────┴────────────────────────┴───────────────┘\n"
      ]
     },
     "metadata": {},
     "output_type": "display_data"
    },
    {
     "data": {
      "text/html": [
       "<pre style=\"white-space:pre;overflow-x:auto;line-height:normal;font-family:Menlo,'DejaVu Sans Mono',consolas,'Courier New',monospace\"><span style=\"font-weight: bold\"> Total params: </span><span style=\"color: #00af00; text-decoration-color: #00af00\">477,973</span> (1.82 MB)\n",
       "</pre>\n"
      ],
      "text/plain": [
       "\u001b[1m Total params: \u001b[0m\u001b[38;5;34m477,973\u001b[0m (1.82 MB)\n"
      ]
     },
     "metadata": {},
     "output_type": "display_data"
    },
    {
     "data": {
      "text/html": [
       "<pre style=\"white-space:pre;overflow-x:auto;line-height:normal;font-family:Menlo,'DejaVu Sans Mono',consolas,'Courier New',monospace\"><span style=\"font-weight: bold\"> Trainable params: </span><span style=\"color: #00af00; text-decoration-color: #00af00\">477,973</span> (1.82 MB)\n",
       "</pre>\n"
      ],
      "text/plain": [
       "\u001b[1m Trainable params: \u001b[0m\u001b[38;5;34m477,973\u001b[0m (1.82 MB)\n"
      ]
     },
     "metadata": {},
     "output_type": "display_data"
    },
    {
     "data": {
      "text/html": [
       "<pre style=\"white-space:pre;overflow-x:auto;line-height:normal;font-family:Menlo,'DejaVu Sans Mono',consolas,'Courier New',monospace\"><span style=\"font-weight: bold\"> Non-trainable params: </span><span style=\"color: #00af00; text-decoration-color: #00af00\">0</span> (0.00 B)\n",
       "</pre>\n"
      ],
      "text/plain": [
       "\u001b[1m Non-trainable params: \u001b[0m\u001b[38;5;34m0\u001b[0m (0.00 B)\n"
      ]
     },
     "metadata": {},
     "output_type": "display_data"
    }
   ],
   "source": [
    "from tensorflow.keras import Sequential\n",
    "from tensorflow.keras.layers import LSTM, Dense, Dropout\n",
    "from tensorflow.keras.regularizers import l2\n",
    "\n",
    "Lstm_model = Sequential([\n",
    "    # First LSTM layer with l2 regularization\n",
    "    LSTM(256, return_sequences=True, input_shape=(Lstm_X_train.shape[1], Lstm_X_train.shape[2]), \n",
    "         kernel_regularizer=l2(0.001), bias_regularizer=l2(0.001)),\n",
    "    Dropout(0.2),\n",
    "    \n",
    "    # Second LSTM layer with l2 regularization\n",
    "    LSTM(128, return_sequences=False, kernel_regularizer=l2(0.001), bias_regularizer=l2(0.001)),\n",
    "    Dropout(0.2),\n",
    "    \n",
    "    # Dense layers with l2 regularization\n",
    "    Dense(10, activation='relu'),\n",
    "    Dense(1)\n",
    "])\n",
    "\n",
    "# Compile the model\n",
    "Lstm_model.compile(optimizer='adam', loss='mean_squared_error', metrics=['mae'])\n",
    "\n",
    "# Model summary\n",
    "Lstm_model.summary()"
   ]
  },
  {
   "cell_type": "code",
   "execution_count": 9,
   "metadata": {
    "colab": {
     "base_uri": "https://localhost:8080/"
    },
    "id": "eD25Ll43Yt0l",
    "outputId": "7ebe215f-a2f7-4170-aea6-347b777df1fd"
   },
   "outputs": [
    {
     "name": "stdout",
     "output_type": "stream",
     "text": [
      "Epoch 1/50\n",
      "\u001b[1m163/163\u001b[0m \u001b[32m━━━━━━━━━━━━━━━━━━━━\u001b[0m\u001b[37m\u001b[0m \u001b[1m25s\u001b[0m 147ms/step - loss: 0.8384 - mae: 0.2418 - val_loss: 0.5283 - val_mae: 0.0591\n",
      "Epoch 2/50\n",
      "\u001b[1m163/163\u001b[0m \u001b[32m━━━━━━━━━━━━━━━━━━━━\u001b[0m\u001b[37m\u001b[0m \u001b[1m25s\u001b[0m 152ms/step - loss: 0.4823 - mae: 0.0527 - val_loss: 0.3658 - val_mae: 0.0407\n",
      "Epoch 3/50\n",
      "\u001b[1m163/163\u001b[0m \u001b[32m━━━━━━━━━━━━━━━━━━━━\u001b[0m\u001b[37m\u001b[0m \u001b[1m26s\u001b[0m 160ms/step - loss: 0.3368 - mae: 0.0428 - val_loss: 0.2582 - val_mae: 0.0284\n",
      "Epoch 4/50\n",
      "\u001b[1m163/163\u001b[0m \u001b[32m━━━━━━━━━━━━━━━━━━━━\u001b[0m\u001b[37m\u001b[0m \u001b[1m29s\u001b[0m 178ms/step - loss: 0.2385 - mae: 0.0348 - val_loss: 0.1834 - val_mae: 0.0265\n",
      "Epoch 5/50\n",
      "\u001b[1m163/163\u001b[0m \u001b[32m━━━━━━━━━━━━━━━━━━━━\u001b[0m\u001b[37m\u001b[0m \u001b[1m29s\u001b[0m 180ms/step - loss: 0.1691 - mae: 0.0303 - val_loss: 0.1294 - val_mae: 0.0229\n",
      "Epoch 6/50\n",
      "\u001b[1m163/163\u001b[0m \u001b[32m━━━━━━━━━━━━━━━━━━━━\u001b[0m\u001b[37m\u001b[0m \u001b[1m28s\u001b[0m 173ms/step - loss: 0.1193 - mae: 0.0272 - val_loss: 0.0927 - val_mae: 0.0454\n",
      "Epoch 7/50\n",
      "\u001b[1m163/163\u001b[0m \u001b[32m━━━━━━━━━━━━━━━━━━━━\u001b[0m\u001b[37m\u001b[0m \u001b[1m29s\u001b[0m 176ms/step - loss: 0.0838 - mae: 0.0255 - val_loss: 0.0642 - val_mae: 0.0303\n",
      "Epoch 8/50\n",
      "\u001b[1m163/163\u001b[0m \u001b[32m━━━━━━━━━━━━━━━━━━━━\u001b[0m\u001b[37m\u001b[0m \u001b[1m29s\u001b[0m 176ms/step - loss: 0.0591 - mae: 0.0295 - val_loss: 0.0443 - val_mae: 0.0217\n",
      "Epoch 9/50\n",
      "\u001b[1m163/163\u001b[0m \u001b[32m━━━━━━━━━━━━━━━━━━━━\u001b[0m\u001b[37m\u001b[0m \u001b[1m29s\u001b[0m 176ms/step - loss: 0.0409 - mae: 0.0230 - val_loss: 0.0324 - val_mae: 0.0401\n",
      "Epoch 10/50\n",
      "\u001b[1m163/163\u001b[0m \u001b[32m━━━━━━━━━━━━━━━━━━━━\u001b[0m\u001b[37m\u001b[0m \u001b[1m28s\u001b[0m 174ms/step - loss: 0.0288 - mae: 0.0221 - val_loss: 0.0228 - val_mae: 0.0360\n",
      "Epoch 11/50\n",
      "\u001b[1m163/163\u001b[0m \u001b[32m━━━━━━━━━━━━━━━━━━━━\u001b[0m\u001b[37m\u001b[0m \u001b[1m29s\u001b[0m 177ms/step - loss: 0.0206 - mae: 0.0252 - val_loss: 0.0164 - val_mae: 0.0294\n",
      "Epoch 12/50\n",
      "\u001b[1m163/163\u001b[0m \u001b[32m━━━━━━━━━━━━━━━━━━━━\u001b[0m\u001b[37m\u001b[0m \u001b[1m29s\u001b[0m 177ms/step - loss: 0.0146 - mae: 0.0203 - val_loss: 0.0115 - val_mae: 0.0226\n",
      "Epoch 13/50\n",
      "\u001b[1m163/163\u001b[0m \u001b[32m━━━━━━━━━━━━━━━━━━━━\u001b[0m\u001b[37m\u001b[0m \u001b[1m29s\u001b[0m 178ms/step - loss: 0.0107 - mae: 0.0197 - val_loss: 0.0087 - val_mae: 0.0265\n",
      "Epoch 14/50\n",
      "\u001b[1m163/163\u001b[0m \u001b[32m━━━━━━━━━━━━━━━━━━━━\u001b[0m\u001b[37m\u001b[0m \u001b[1m29s\u001b[0m 178ms/step - loss: 0.0080 - mae: 0.0214 - val_loss: 0.0063 - val_mae: 0.0197\n",
      "Epoch 15/50\n",
      "\u001b[1m163/163\u001b[0m \u001b[32m━━━━━━━━━━━━━━━━━━━━\u001b[0m\u001b[37m\u001b[0m \u001b[1m30s\u001b[0m 181ms/step - loss: 0.0059 - mae: 0.0188 - val_loss: 0.0045 - val_mae: 0.0152\n",
      "Epoch 16/50\n",
      "\u001b[1m163/163\u001b[0m \u001b[32m━━━━━━━━━━━━━━━━━━━━\u001b[0m\u001b[37m\u001b[0m \u001b[1m29s\u001b[0m 181ms/step - loss: 0.0045 - mae: 0.0181 - val_loss: 0.0036 - val_mae: 0.0202\n",
      "Epoch 17/50\n",
      "\u001b[1m163/163\u001b[0m \u001b[32m━━━━━━━━━━━━━━━━━━━━\u001b[0m\u001b[37m\u001b[0m \u001b[1m29s\u001b[0m 176ms/step - loss: 0.0037 - mae: 0.0211 - val_loss: 0.0044 - val_mae: 0.0408\n",
      "Epoch 18/50\n",
      "\u001b[1m163/163\u001b[0m \u001b[32m━━━━━━━━━━━━━━━━━━━━\u001b[0m\u001b[37m\u001b[0m \u001b[1m30s\u001b[0m 185ms/step - loss: 0.0028 - mae: 0.0184 - val_loss: 0.0022 - val_mae: 0.0154\n",
      "Epoch 19/50\n",
      "\u001b[1m163/163\u001b[0m \u001b[32m━━━━━━━━━━━━━━━━━━━━\u001b[0m\u001b[37m\u001b[0m \u001b[1m29s\u001b[0m 181ms/step - loss: 0.0023 - mae: 0.0173 - val_loss: 0.0018 - val_mae: 0.0171\n",
      "Epoch 20/50\n",
      "\u001b[1m163/163\u001b[0m \u001b[32m━━━━━━━━━━━━━━━━━━━━\u001b[0m\u001b[37m\u001b[0m \u001b[1m28s\u001b[0m 173ms/step - loss: 0.0020 - mae: 0.0179 - val_loss: 0.0015 - val_mae: 0.0164\n",
      "Epoch 21/50\n",
      "\u001b[1m163/163\u001b[0m \u001b[32m━━━━━━━━━━━━━━━━━━━━\u001b[0m\u001b[37m\u001b[0m \u001b[1m29s\u001b[0m 179ms/step - loss: 0.0017 - mae: 0.0182 - val_loss: 0.0018 - val_mae: 0.0231\n",
      "Epoch 22/50\n",
      "\u001b[1m163/163\u001b[0m \u001b[32m━━━━━━━━━━━━━━━━━━━━\u001b[0m\u001b[37m\u001b[0m \u001b[1m28s\u001b[0m 171ms/step - loss: 0.0014 - mae: 0.0167 - val_loss: 0.0012 - val_mae: 0.0167\n",
      "Epoch 23/50\n",
      "\u001b[1m163/163\u001b[0m \u001b[32m━━━━━━━━━━━━━━━━━━━━\u001b[0m\u001b[37m\u001b[0m \u001b[1m29s\u001b[0m 178ms/step - loss: 0.0012 - mae: 0.0167 - val_loss: 9.0085e-04 - val_mae: 0.0149\n",
      "Epoch 24/50\n",
      "\u001b[1m163/163\u001b[0m \u001b[32m━━━━━━━━━━━━━━━━━━━━\u001b[0m\u001b[37m\u001b[0m \u001b[1m29s\u001b[0m 176ms/step - loss: 0.0010 - mae: 0.0152 - val_loss: 0.0025 - val_mae: 0.0427\n",
      "Epoch 25/50\n",
      "\u001b[1m163/163\u001b[0m \u001b[32m━━━━━━━━━━━━━━━━━━━━\u001b[0m\u001b[37m\u001b[0m \u001b[1m29s\u001b[0m 177ms/step - loss: 0.0011 - mae: 0.0175 - val_loss: 0.0012 - val_mae: 0.0244\n",
      "Epoch 26/50\n",
      "\u001b[1m163/163\u001b[0m \u001b[32m━━━━━━━━━━━━━━━━━━━━\u001b[0m\u001b[37m\u001b[0m \u001b[1m28s\u001b[0m 174ms/step - loss: 8.8358e-04 - mae: 0.0148 - val_loss: 5.7168e-04 - val_mae: 0.0105\n",
      "Epoch 27/50\n",
      "\u001b[1m163/163\u001b[0m \u001b[32m━━━━━━━━━━━━━━━━━━━━\u001b[0m\u001b[37m\u001b[0m \u001b[1m30s\u001b[0m 186ms/step - loss: 8.9535e-04 - mae: 0.0159 - val_loss: 4.6343e-04 - val_mae: 0.0085\n",
      "Epoch 28/50\n",
      "\u001b[1m163/163\u001b[0m \u001b[32m━━━━━━━━━━━━━━━━━━━━\u001b[0m\u001b[37m\u001b[0m \u001b[1m30s\u001b[0m 183ms/step - loss: 8.2224e-04 - mae: 0.0149 - val_loss: 6.1991e-04 - val_mae: 0.0136\n",
      "Epoch 29/50\n",
      "\u001b[1m163/163\u001b[0m \u001b[32m━━━━━━━━━━━━━━━━━━━━\u001b[0m\u001b[37m\u001b[0m \u001b[1m31s\u001b[0m 188ms/step - loss: 7.7443e-04 - mae: 0.0151 - val_loss: 8.6050e-04 - val_mae: 0.0186\n",
      "Epoch 30/50\n",
      "\u001b[1m163/163\u001b[0m \u001b[32m━━━━━━━━━━━━━━━━━━━━\u001b[0m\u001b[37m\u001b[0m \u001b[1m31s\u001b[0m 190ms/step - loss: 8.5150e-04 - mae: 0.0165 - val_loss: 5.9480e-04 - val_mae: 0.0160\n",
      "Epoch 31/50\n",
      "\u001b[1m163/163\u001b[0m \u001b[32m━━━━━━━━━━━━━━━━━━━━\u001b[0m\u001b[37m\u001b[0m \u001b[1m28s\u001b[0m 173ms/step - loss: 7.5832e-04 - mae: 0.0152 - val_loss: 5.4926e-04 - val_mae: 0.0150\n",
      "Epoch 32/50\n",
      "\u001b[1m163/163\u001b[0m \u001b[32m━━━━━━━━━━━━━━━━━━━━\u001b[0m\u001b[37m\u001b[0m \u001b[1m29s\u001b[0m 177ms/step - loss: 7.2163e-04 - mae: 0.0149 - val_loss: 4.6438e-04 - val_mae: 0.0128\n"
     ]
    }
   ],
   "source": [
    "from tensorflow.keras.callbacks import EarlyStopping\n",
    "early_stopping = EarlyStopping(\n",
    "    monitor='val_loss',\n",
    "    patience=5,\n",
    "    restore_best_weights=True\n",
    ")\n",
    "Lstm_model_history = Lstm_model.fit(Lstm_X_train, Lstm_y_train,validation_data=(Lstm_X_test, Lstm_y_test),epochs=50,batch_size=64,callbacks=[early_stopping],verbose=1)"
   ]
  },
  {
   "cell_type": "code",
   "execution_count": 10,
   "metadata": {
    "colab": {
     "base_uri": "https://localhost:8080/",
     "height": 449
    },
    "id": "PFlvb9vQZDaY",
    "outputId": "027103fa-b978-4706-f217-181efb6beef0"
   },
   "outputs": [
    {
     "data": {
      "image/png": "[encoded data removed]",
      "text/plain": [
       "<Figure size 640x480 with 1 Axes>"
      ]
     },
     "metadata": {},
     "output_type": "display_data"
    }
   ],
   "source": [
    "import matplotlib.pyplot as plt\n",
    "\n",
    "plt.plot(Lstm_model_history.history['loss'], label='Training Loss')\n",
    "plt.plot(Lstm_model_history.history['val_loss'], label='Validation Loss')\n",
    "plt.xlabel('Epochs')\n",
    "plt.ylabel('Loss')\n",
    "plt.legend()\n",
    "plt.show()"
   ]
  },
  {
   "cell_type": "markdown",
   "metadata": {
    "id": "uNYgOxi1Xxhw"
   },
   "source": [
    "<h2>Testing Lstm</h2>"
   ]
  },
  {
   "cell_type": "code",
   "execution_count": 11,
   "metadata": {
    "id": "lMglWum-Xw88"
   },
   "outputs": [
    {
     "name": "stdout",
     "output_type": "stream",
     "text": [
      "\u001b[1m82/82\u001b[0m \u001b[32m━━━━━━━━━━━━━━━━━━━━\u001b[0m\u001b[37m\u001b[0m \u001b[1m3s\u001b[0m 36ms/step\n",
      "RMSE: 0.011896758862164201\n",
      "R² Score:0.9854013876702878\n"
     ]
    }
   ],
   "source": [
    "y_pred = Lstm_model.predict(Lstm_X_test)\n",
    "from sklearn.metrics import mean_squared_error, r2_score\n",
    "import numpy as np\n",
    "\n",
    "# Calculate RMSE\n",
    "rmse = np.sqrt(mean_squared_error(Lstm_y_test, y_pred))\n",
    "print(f\"RMSE: {rmse}\")\n",
    "\n",
    "# Calculate R-squared\n",
    "r2 = r2_score(Lstm_y_test, y_pred)\n",
    "print(f\"R² Score:{r2}\")"
   ]
  },
  {
   "cell_type": "markdown",
   "metadata": {
    "id": "0rio9T3mVMc6"
   },
   "source": [
    "# Transformer Data Sequence\n"
   ]
  },
  {
   "cell_type": "code",
   "execution_count": 12,
   "metadata": {
    "id": "65qdv9eGVP7w"
   },
   "outputs": [],
   "source": [
    "# Data Preparation (assuming df_normalized has your data)\n",
    "def create_sequences(data, target_col, sequence_length=60):\n",
    "    sequences = []\n",
    "    targets = []\n",
    "    for i in range(len(data) - sequence_length):\n",
    "        seq = data.iloc[i:i + sequence_length].drop(columns=[target_col]).values\n",
    "        target = data.iloc[i + sequence_length][target_col]\n",
    "        sequences.append(seq)\n",
    "        targets.append(target)\n",
    "    return np.array(sequences), np.array(targets)\n",
    "\n",
    "sequence_length = 60\n",
    "target_col = 'Adj Close'\n",
    "\n",
    "# Assume df_normalized is your DataFrame\n",
    "X, y = create_sequences(transformer_normalized, target_col, sequence_length)\n",
    "\n",
    "# Train-Test Split\n",
    "test_size = 0.2\n",
    "test_split_index = int(len(X) * (1 - test_size))\n",
    "\n",
    "X_train, X_test = X[:test_split_index], X[test_split_index:]\n",
    "y_train, y_test = y[:test_split_index], y[test_split_index:]"
   ]
  },
  {
   "cell_type": "markdown",
   "metadata": {
    "id": "Xsb9fRAcVBac"
   },
   "source": [
    "# Transformer Training"
   ]
  },
  {
   "cell_type": "code",
   "execution_count": 13,
   "metadata": {
    "id": "uDGD4UFHaaGw"
   },
   "outputs": [
    {
     "data": {
      "text/html": [
       "<pre style=\"white-space:pre;overflow-x:auto;line-height:normal;font-family:Menlo,'DejaVu Sans Mono',consolas,'Courier New',monospace\"><span style=\"font-weight: bold\">Model: \"functional_2\"</span>\n",
       "</pre>\n"
      ],
      "text/plain": [
       "\u001b[1mModel: \"functional_2\"\u001b[0m\n"
      ]
     },
     "metadata": {},
     "output_type": "display_data"
    },
    {
     "data": {
      "text/html": [
       "<pre style=\"white-space:pre;overflow-x:auto;line-height:normal;font-family:Menlo,'DejaVu Sans Mono',consolas,'Courier New',monospace\">┏━━━━━━━━━━━━━━━━━━━━━┳━━━━━━━━━━━━━━━━━━━┳━━━━━━━━━━━━┳━━━━━━━━━━━━━━━━━━━┓\n",
       "┃<span style=\"font-weight: bold\"> Layer (type)        </span>┃<span style=\"font-weight: bold\"> Output Shape      </span>┃<span style=\"font-weight: bold\">    Param # </span>┃<span style=\"font-weight: bold\"> Connected to      </span>┃\n",
       "┡━━━━━━━━━━━━━━━━━━━━━╇━━━━━━━━━━━━━━━━━━━╇━━━━━━━━━━━━╇━━━━━━━━━━━━━━━━━━━┩\n",
       "│ input_layer_1       │ (<span style=\"color: #00d7ff; text-decoration-color: #00d7ff\">None</span>, <span style=\"color: #00af00; text-decoration-color: #00af00\">60</span>, <span style=\"color: #00af00; text-decoration-color: #00af00\">16</span>)    │          <span style=\"color: #00af00; text-decoration-color: #00af00\">0</span> │ -                 │\n",
       "│ (<span style=\"color: #0087ff; text-decoration-color: #0087ff\">InputLayer</span>)        │                   │            │                   │\n",
       "├─────────────────────┼───────────────────┼────────────┼───────────────────┤\n",
       "│ dense_2 (<span style=\"color: #0087ff; text-decoration-color: #0087ff\">Dense</span>)     │ (<span style=\"color: #00d7ff; text-decoration-color: #00d7ff\">None</span>, <span style=\"color: #00af00; text-decoration-color: #00af00\">60</span>, <span style=\"color: #00af00; text-decoration-color: #00af00\">64</span>)    │      <span style=\"color: #00af00; text-decoration-color: #00af00\">1,088</span> │ input_layer_1[<span style=\"color: #00af00; text-decoration-color: #00af00\">0</span>]… │\n",
       "├─────────────────────┼───────────────────┼────────────┼───────────────────┤\n",
       "│ multi_head_attenti… │ (<span style=\"color: #00d7ff; text-decoration-color: #00d7ff\">None</span>, <span style=\"color: #00af00; text-decoration-color: #00af00\">60</span>, <span style=\"color: #00af00; text-decoration-color: #00af00\">64</span>)    │     <span style=\"color: #00af00; text-decoration-color: #00af00\">66,368</span> │ dense_2[<span style=\"color: #00af00; text-decoration-color: #00af00\">0</span>][<span style=\"color: #00af00; text-decoration-color: #00af00\">0</span>],    │\n",
       "│ (<span style=\"color: #0087ff; text-decoration-color: #0087ff\">MultiHeadAttentio…</span> │                   │            │ dense_2[<span style=\"color: #00af00; text-decoration-color: #00af00\">0</span>][<span style=\"color: #00af00; text-decoration-color: #00af00\">0</span>]     │\n",
       "├─────────────────────┼───────────────────┼────────────┼───────────────────┤\n",
       "│ dropout_3 (<span style=\"color: #0087ff; text-decoration-color: #0087ff\">Dropout</span>) │ (<span style=\"color: #00d7ff; text-decoration-color: #00d7ff\">None</span>, <span style=\"color: #00af00; text-decoration-color: #00af00\">60</span>, <span style=\"color: #00af00; text-decoration-color: #00af00\">64</span>)    │          <span style=\"color: #00af00; text-decoration-color: #00af00\">0</span> │ multi_head_atten… │\n",
       "├─────────────────────┼───────────────────┼────────────┼───────────────────┤\n",
       "│ add (<span style=\"color: #0087ff; text-decoration-color: #0087ff\">Add</span>)           │ (<span style=\"color: #00d7ff; text-decoration-color: #00d7ff\">None</span>, <span style=\"color: #00af00; text-decoration-color: #00af00\">60</span>, <span style=\"color: #00af00; text-decoration-color: #00af00\">64</span>)    │          <span style=\"color: #00af00; text-decoration-color: #00af00\">0</span> │ dense_2[<span style=\"color: #00af00; text-decoration-color: #00af00\">0</span>][<span style=\"color: #00af00; text-decoration-color: #00af00\">0</span>],    │\n",
       "│                     │                   │            │ dropout_3[<span style=\"color: #00af00; text-decoration-color: #00af00\">0</span>][<span style=\"color: #00af00; text-decoration-color: #00af00\">0</span>]   │\n",
       "├─────────────────────┼───────────────────┼────────────┼───────────────────┤\n",
       "│ layer_normalization │ (<span style=\"color: #00d7ff; text-decoration-color: #00d7ff\">None</span>, <span style=\"color: #00af00; text-decoration-color: #00af00\">60</span>, <span style=\"color: #00af00; text-decoration-color: #00af00\">64</span>)    │        <span style=\"color: #00af00; text-decoration-color: #00af00\">128</span> │ add[<span style=\"color: #00af00; text-decoration-color: #00af00\">0</span>][<span style=\"color: #00af00; text-decoration-color: #00af00\">0</span>]         │\n",
       "│ (<span style=\"color: #0087ff; text-decoration-color: #0087ff\">LayerNormalizatio…</span> │                   │            │                   │\n",
       "├─────────────────────┼───────────────────┼────────────┼───────────────────┤\n",
       "│ dense_3 (<span style=\"color: #0087ff; text-decoration-color: #0087ff\">Dense</span>)     │ (<span style=\"color: #00d7ff; text-decoration-color: #00d7ff\">None</span>, <span style=\"color: #00af00; text-decoration-color: #00af00\">60</span>, <span style=\"color: #00af00; text-decoration-color: #00af00\">128</span>)   │      <span style=\"color: #00af00; text-decoration-color: #00af00\">8,320</span> │ layer_normalizat… │\n",
       "├─────────────────────┼───────────────────┼────────────┼───────────────────┤\n",
       "│ dense_4 (<span style=\"color: #0087ff; text-decoration-color: #0087ff\">Dense</span>)     │ (<span style=\"color: #00d7ff; text-decoration-color: #00d7ff\">None</span>, <span style=\"color: #00af00; text-decoration-color: #00af00\">60</span>, <span style=\"color: #00af00; text-decoration-color: #00af00\">64</span>)    │      <span style=\"color: #00af00; text-decoration-color: #00af00\">8,256</span> │ dense_3[<span style=\"color: #00af00; text-decoration-color: #00af00\">0</span>][<span style=\"color: #00af00; text-decoration-color: #00af00\">0</span>]     │\n",
       "├─────────────────────┼───────────────────┼────────────┼───────────────────┤\n",
       "│ dropout_4 (<span style=\"color: #0087ff; text-decoration-color: #0087ff\">Dropout</span>) │ (<span style=\"color: #00d7ff; text-decoration-color: #00d7ff\">None</span>, <span style=\"color: #00af00; text-decoration-color: #00af00\">60</span>, <span style=\"color: #00af00; text-decoration-color: #00af00\">64</span>)    │          <span style=\"color: #00af00; text-decoration-color: #00af00\">0</span> │ dense_4[<span style=\"color: #00af00; text-decoration-color: #00af00\">0</span>][<span style=\"color: #00af00; text-decoration-color: #00af00\">0</span>]     │\n",
       "├─────────────────────┼───────────────────┼────────────┼───────────────────┤\n",
       "│ add_1 (<span style=\"color: #0087ff; text-decoration-color: #0087ff\">Add</span>)         │ (<span style=\"color: #00d7ff; text-decoration-color: #00d7ff\">None</span>, <span style=\"color: #00af00; text-decoration-color: #00af00\">60</span>, <span style=\"color: #00af00; text-decoration-color: #00af00\">64</span>)    │          <span style=\"color: #00af00; text-decoration-color: #00af00\">0</span> │ layer_normalizat… │\n",
       "│                     │                   │            │ dropout_4[<span style=\"color: #00af00; text-decoration-color: #00af00\">0</span>][<span style=\"color: #00af00; text-decoration-color: #00af00\">0</span>]   │\n",
       "├─────────────────────┼───────────────────┼────────────┼───────────────────┤\n",
       "│ layer_normalizatio… │ (<span style=\"color: #00d7ff; text-decoration-color: #00d7ff\">None</span>, <span style=\"color: #00af00; text-decoration-color: #00af00\">60</span>, <span style=\"color: #00af00; text-decoration-color: #00af00\">64</span>)    │        <span style=\"color: #00af00; text-decoration-color: #00af00\">128</span> │ add_1[<span style=\"color: #00af00; text-decoration-color: #00af00\">0</span>][<span style=\"color: #00af00; text-decoration-color: #00af00\">0</span>]       │\n",
       "│ (<span style=\"color: #0087ff; text-decoration-color: #0087ff\">LayerNormalizatio…</span> │                   │            │                   │\n",
       "├─────────────────────┼───────────────────┼────────────┼───────────────────┤\n",
       "│ get_item (<span style=\"color: #0087ff; text-decoration-color: #0087ff\">GetItem</span>)  │ (<span style=\"color: #00d7ff; text-decoration-color: #00d7ff\">None</span>, <span style=\"color: #00af00; text-decoration-color: #00af00\">64</span>)        │          <span style=\"color: #00af00; text-decoration-color: #00af00\">0</span> │ layer_normalizat… │\n",
       "├─────────────────────┼───────────────────┼────────────┼───────────────────┤\n",
       "│ dense_5 (<span style=\"color: #0087ff; text-decoration-color: #0087ff\">Dense</span>)     │ (<span style=\"color: #00d7ff; text-decoration-color: #00d7ff\">None</span>, <span style=\"color: #00af00; text-decoration-color: #00af00\">1</span>)         │         <span style=\"color: #00af00; text-decoration-color: #00af00\">65</span> │ get_item[<span style=\"color: #00af00; text-decoration-color: #00af00\">0</span>][<span style=\"color: #00af00; text-decoration-color: #00af00\">0</span>]    │\n",
       "└─────────────────────┴───────────────────┴────────────┴───────────────────┘\n",
       "</pre>\n"
      ],
      "text/plain": [
       "┏━━━━━━━━━━━━━━━━━━━━━┳━━━━━━━━━━━━━━━━━━━┳━━━━━━━━━━━━┳━━━━━━━━━━━━━━━━━━━┓\n",
       "┃\u001b[1m \u001b[0m\u001b[1mLayer (type)       \u001b[0m\u001b[1m \u001b[0m┃\u001b[1m \u001b[0m\u001b[1mOutput Shape     \u001b[0m\u001b[1m \u001b[0m┃\u001b[1m \u001b[0m\u001b[1m   Param #\u001b[0m\u001b[1m \u001b[0m┃\u001b[1m \u001b[0m\u001b[1mConnected to     \u001b[0m\u001b[1m \u001b[0m┃\n",
       "┡━━━━━━━━━━━━━━━━━━━━━╇━━━━━━━━━━━━━━━━━━━╇━━━━━━━━━━━━╇━━━━━━━━━━━━━━━━━━━┩\n",
       "│ input_layer_1       │ (\u001b[38;5;45mNone\u001b[0m, \u001b[38;5;34m60\u001b[0m, \u001b[38;5;34m16\u001b[0m)    │          \u001b[38;5;34m0\u001b[0m │ -                 │\n",
       "│ (\u001b[38;5;33mInputLayer\u001b[0m)        │                   │            │                   │\n",
       "├─────────────────────┼───────────────────┼────────────┼───────────────────┤\n",
       "│ dense_2 (\u001b[38;5;33mDense\u001b[0m)     │ (\u001b[38;5;45mNone\u001b[0m, \u001b[38;5;34m60\u001b[0m, \u001b[38;5;34m64\u001b[0m)    │      \u001b[38;5;34m1,088\u001b[0m │ input_layer_1[\u001b[38;5;34m0\u001b[0m]… │\n",
       "├─────────────────────┼───────────────────┼────────────┼───────────────────┤\n",
       "│ multi_head_attenti… │ (\u001b[38;5;45mNone\u001b[0m, \u001b[38;5;34m60\u001b[0m, \u001b[38;5;34m64\u001b[0m)    │     \u001b[38;5;34m66,368\u001b[0m │ dense_2[\u001b[38;5;34m0\u001b[0m][\u001b[38;5;34m0\u001b[0m],    │\n",
       "│ (\u001b[38;5;33mMultiHeadAttentio…\u001b[0m │                   │            │ dense_2[\u001b[38;5;34m0\u001b[0m][\u001b[38;5;34m0\u001b[0m]     │\n",
       "├─────────────────────┼───────────────────┼────────────┼───────────────────┤\n",
       "│ dropout_3 (\u001b[38;5;33mDropout\u001b[0m) │ (\u001b[38;5;45mNone\u001b[0m, \u001b[38;5;34m60\u001b[0m, \u001b[38;5;34m64\u001b[0m)    │          \u001b[38;5;34m0\u001b[0m │ multi_head_atten… │\n",
       "├─────────────────────┼───────────────────┼────────────┼───────────────────┤\n",
       "│ add (\u001b[38;5;33mAdd\u001b[0m)           │ (\u001b[38;5;45mNone\u001b[0m, \u001b[38;5;34m60\u001b[0m, \u001b[38;5;34m64\u001b[0m)    │          \u001b[38;5;34m0\u001b[0m │ dense_2[\u001b[38;5;34m0\u001b[0m][\u001b[38;5;34m0\u001b[0m],    │\n",
       "│                     │                   │            │ dropout_3[\u001b[38;5;34m0\u001b[0m][\u001b[38;5;34m0\u001b[0m]   │\n",
       "├─────────────────────┼───────────────────┼────────────┼───────────────────┤\n",
       "│ layer_normalization │ (\u001b[38;5;45mNone\u001b[0m, \u001b[38;5;34m60\u001b[0m, \u001b[38;5;34m64\u001b[0m)    │        \u001b[38;5;34m128\u001b[0m │ add[\u001b[38;5;34m0\u001b[0m][\u001b[38;5;34m0\u001b[0m]         │\n",
       "│ (\u001b[38;5;33mLayerNormalizatio…\u001b[0m │                   │            │                   │\n",
       "├─────────────────────┼───────────────────┼────────────┼───────────────────┤\n",
       "│ dense_3 (\u001b[38;5;33mDense\u001b[0m)     │ (\u001b[38;5;45mNone\u001b[0m, \u001b[38;5;34m60\u001b[0m, \u001b[38;5;34m128\u001b[0m)   │      \u001b[38;5;34m8,320\u001b[0m │ layer_normalizat… │\n",
       "├─────────────────────┼───────────────────┼────────────┼───────────────────┤\n",
       "│ dense_4 (\u001b[38;5;33mDense\u001b[0m)     │ (\u001b[38;5;45mNone\u001b[0m, \u001b[38;5;34m60\u001b[0m, \u001b[38;5;34m64\u001b[0m)    │      \u001b[38;5;34m8,256\u001b[0m │ dense_3[\u001b[38;5;34m0\u001b[0m][\u001b[38;5;34m0\u001b[0m]     │\n",
       "├─────────────────────┼───────────────────┼────────────┼───────────────────┤\n",
       "│ dropout_4 (\u001b[38;5;33mDropout\u001b[0m) │ (\u001b[38;5;45mNone\u001b[0m, \u001b[38;5;34m60\u001b[0m, \u001b[38;5;34m64\u001b[0m)    │          \u001b[38;5;34m0\u001b[0m │ dense_4[\u001b[38;5;34m0\u001b[0m][\u001b[38;5;34m0\u001b[0m]     │\n",
       "├─────────────────────┼───────────────────┼────────────┼───────────────────┤\n",
       "│ add_1 (\u001b[38;5;33mAdd\u001b[0m)         │ (\u001b[38;5;45mNone\u001b[0m, \u001b[38;5;34m60\u001b[0m, \u001b[38;5;34m64\u001b[0m)    │          \u001b[38;5;34m0\u001b[0m │ layer_normalizat… │\n",
       "│                     │                   │            │ dropout_4[\u001b[38;5;34m0\u001b[0m][\u001b[38;5;34m0\u001b[0m]   │\n",
       "├─────────────────────┼───────────────────┼────────────┼───────────────────┤\n",
       "│ layer_normalizatio… │ (\u001b[38;5;45mNone\u001b[0m, \u001b[38;5;34m60\u001b[0m, \u001b[38;5;34m64\u001b[0m)    │        \u001b[38;5;34m128\u001b[0m │ add_1[\u001b[38;5;34m0\u001b[0m][\u001b[38;5;34m0\u001b[0m]       │\n",
       "│ (\u001b[38;5;33mLayerNormalizatio…\u001b[0m │                   │            │                   │\n",
       "├─────────────────────┼───────────────────┼────────────┼───────────────────┤\n",
       "│ get_item (\u001b[38;5;33mGetItem\u001b[0m)  │ (\u001b[38;5;45mNone\u001b[0m, \u001b[38;5;34m64\u001b[0m)        │          \u001b[38;5;34m0\u001b[0m │ layer_normalizat… │\n",
       "├─────────────────────┼───────────────────┼────────────┼───────────────────┤\n",
       "│ dense_5 (\u001b[38;5;33mDense\u001b[0m)     │ (\u001b[38;5;45mNone\u001b[0m, \u001b[38;5;34m1\u001b[0m)         │         \u001b[38;5;34m65\u001b[0m │ get_item[\u001b[38;5;34m0\u001b[0m][\u001b[38;5;34m0\u001b[0m]    │\n",
       "└─────────────────────┴───────────────────┴────────────┴───────────────────┘\n"
      ]
     },
     "metadata": {},
     "output_type": "display_data"
    },
    {
     "data": {
      "text/html": [
       "<pre style=\"white-space:pre;overflow-x:auto;line-height:normal;font-family:Menlo,'DejaVu Sans Mono',consolas,'Courier New',monospace\"><span style=\"font-weight: bold\"> Total params: </span><span style=\"color: #00af00; text-decoration-color: #00af00\">84,353</span> (329.50 KB)\n",
       "</pre>\n"
      ],
      "text/plain": [
       "\u001b[1m Total params: \u001b[0m\u001b[38;5;34m84,353\u001b[0m (329.50 KB)\n"
      ]
     },
     "metadata": {},
     "output_type": "display_data"
    },
    {
     "data": {
      "text/html": [
       "<pre style=\"white-space:pre;overflow-x:auto;line-height:normal;font-family:Menlo,'DejaVu Sans Mono',consolas,'Courier New',monospace\"><span style=\"font-weight: bold\"> Trainable params: </span><span style=\"color: #00af00; text-decoration-color: #00af00\">84,353</span> (329.50 KB)\n",
       "</pre>\n"
      ],
      "text/plain": [
       "\u001b[1m Trainable params: \u001b[0m\u001b[38;5;34m84,353\u001b[0m (329.50 KB)\n"
      ]
     },
     "metadata": {},
     "output_type": "display_data"
    },
    {
     "data": {
      "text/html": [
       "<pre style=\"white-space:pre;overflow-x:auto;line-height:normal;font-family:Menlo,'DejaVu Sans Mono',consolas,'Courier New',monospace\"><span style=\"font-weight: bold\"> Non-trainable params: </span><span style=\"color: #00af00; text-decoration-color: #00af00\">0</span> (0.00 B)\n",
       "</pre>\n"
      ],
      "text/plain": [
       "\u001b[1m Non-trainable params: \u001b[0m\u001b[38;5;34m0\u001b[0m (0.00 B)\n"
      ]
     },
     "metadata": {},
     "output_type": "display_data"
    },
    {
     "name": "stdout",
     "output_type": "stream",
     "text": [
      "Epoch 1/50\n",
      "\u001b[1m4019/4019\u001b[0m \u001b[32m━━━━━━━━━━━━━━━━━━━━\u001b[0m\u001b[37m\u001b[0m \u001b[1m90s\u001b[0m 22ms/step - loss: 0.0484 - mae: 0.1258 - val_loss: 0.0033 - val_mae: 0.0458\n",
      "Epoch 2/50\n",
      "\u001b[1m4019/4019\u001b[0m \u001b[32m━━━━━━━━━━━━━━━━━━━━\u001b[0m\u001b[37m\u001b[0m \u001b[1m89s\u001b[0m 22ms/step - loss: 0.0010 - mae: 0.0246 - val_loss: 0.0016 - val_mae: 0.0314\n",
      "Epoch 3/50\n",
      "\u001b[1m4019/4019\u001b[0m \u001b[32m━━━━━━━━━━━━━━━━━━━━\u001b[0m\u001b[37m\u001b[0m \u001b[1m87s\u001b[0m 22ms/step - loss: 4.3599e-04 - mae: 0.0161 - val_loss: 0.0011 - val_mae: 0.0287\n",
      "Epoch 4/50\n",
      "\u001b[1m4019/4019\u001b[0m \u001b[32m━━━━━━━━━━━━━━━━━━━━\u001b[0m\u001b[37m\u001b[0m \u001b[1m87s\u001b[0m 22ms/step - loss: 2.9545e-04 - mae: 0.0133 - val_loss: 4.6647e-04 - val_mae: 0.0170\n",
      "Epoch 5/50\n",
      "\u001b[1m4019/4019\u001b[0m \u001b[32m━━━━━━━━━━━━━━━━━━━━\u001b[0m\u001b[37m\u001b[0m \u001b[1m86s\u001b[0m 21ms/step - loss: 2.1099e-04 - mae: 0.0113 - val_loss: 4.6496e-04 - val_mae: 0.0158\n",
      "Epoch 6/50\n",
      "\u001b[1m4019/4019\u001b[0m \u001b[32m━━━━━━━━━━━━━━━━━━━━\u001b[0m\u001b[37m\u001b[0m \u001b[1m88s\u001b[0m 22ms/step - loss: 1.6807e-04 - mae: 0.0101 - val_loss: 3.5667e-04 - val_mae: 0.0154\n",
      "Epoch 7/50\n",
      "\u001b[1m4019/4019\u001b[0m \u001b[32m━━━━━━━━━━━━━━━━━━━━\u001b[0m\u001b[37m\u001b[0m \u001b[1m87s\u001b[0m 22ms/step - loss: 1.4088e-04 - mae: 0.0092 - val_loss: 5.0694e-04 - val_mae: 0.0170\n",
      "Epoch 8/50\n",
      "\u001b[1m4019/4019\u001b[0m \u001b[32m━━━━━━━━━━━━━━━━━━━━\u001b[0m\u001b[37m\u001b[0m \u001b[1m90s\u001b[0m 22ms/step - loss: 1.1475e-04 - mae: 0.0083 - val_loss: 3.2951e-04 - val_mae: 0.0135\n",
      "Epoch 9/50\n",
      "\u001b[1m4019/4019\u001b[0m \u001b[32m━━━━━━━━━━━━━━━━━━━━\u001b[0m\u001b[37m\u001b[0m \u001b[1m89s\u001b[0m 22ms/step - loss: 1.1079e-04 - mae: 0.0081 - val_loss: 2.9136e-04 - val_mae: 0.0137\n",
      "Epoch 10/50\n",
      "\u001b[1m4019/4019\u001b[0m \u001b[32m━━━━━━━━━━━━━━━━━━━━\u001b[0m\u001b[37m\u001b[0m \u001b[1m89s\u001b[0m 22ms/step - loss: 9.0567e-05 - mae: 0.0074 - val_loss: 3.3839e-04 - val_mae: 0.0134\n",
      "Epoch 11/50\n",
      "\u001b[1m4019/4019\u001b[0m \u001b[32m━━━━━━━━━━━━━━━━━━━━\u001b[0m\u001b[37m\u001b[0m \u001b[1m87s\u001b[0m 22ms/step - loss: 8.9019e-05 - mae: 0.0073 - val_loss: 2.7622e-04 - val_mae: 0.0126\n",
      "Epoch 12/50\n",
      "\u001b[1m4019/4019\u001b[0m \u001b[32m━━━━━━━━━━━━━━━━━━━━\u001b[0m\u001b[37m\u001b[0m \u001b[1m85s\u001b[0m 21ms/step - loss: 7.6279e-05 - mae: 0.0068 - val_loss: 2.8559e-04 - val_mae: 0.0123\n",
      "Epoch 13/50\n",
      "\u001b[1m4019/4019\u001b[0m \u001b[32m━━━━━━━━━━━━━━━━━━━━\u001b[0m\u001b[37m\u001b[0m \u001b[1m87s\u001b[0m 22ms/step - loss: 7.3490e-05 - mae: 0.0067 - val_loss: 2.7244e-04 - val_mae: 0.0120\n",
      "Epoch 14/50\n",
      "\u001b[1m4019/4019\u001b[0m \u001b[32m━━━━━━━━━━━━━━━━━━━━\u001b[0m\u001b[37m\u001b[0m \u001b[1m89s\u001b[0m 22ms/step - loss: 6.8213e-05 - mae: 0.0064 - val_loss: 2.7374e-04 - val_mae: 0.0136\n",
      "Epoch 15/50\n",
      "\u001b[1m4019/4019\u001b[0m \u001b[32m━━━━━━━━━━━━━━━━━━━━\u001b[0m\u001b[37m\u001b[0m \u001b[1m91s\u001b[0m 23ms/step - loss: 6.6751e-05 - mae: 0.0064 - val_loss: 3.5571e-04 - val_mae: 0.0135\n",
      "Epoch 16/50\n",
      "\u001b[1m4019/4019\u001b[0m \u001b[32m━━━━━━━━━━━━━━━━━━━━\u001b[0m\u001b[37m\u001b[0m \u001b[1m88s\u001b[0m 22ms/step - loss: 5.7960e-05 - mae: 0.0059 - val_loss: 4.9392e-04 - val_mae: 0.0170\n",
      "Epoch 17/50\n",
      "\u001b[1m4019/4019\u001b[0m \u001b[32m━━━━━━━━━━━━━━━━━━━━\u001b[0m\u001b[37m\u001b[0m \u001b[1m90s\u001b[0m 22ms/step - loss: 5.7192e-05 - mae: 0.0059 - val_loss: 2.3389e-04 - val_mae: 0.0119\n",
      "Epoch 18/50\n",
      "\u001b[1m4019/4019\u001b[0m \u001b[32m━━━━━━━━━━━━━━━━━━━━\u001b[0m\u001b[37m\u001b[0m \u001b[1m89s\u001b[0m 22ms/step - loss: 5.3327e-05 - mae: 0.0057 - val_loss: 3.5295e-04 - val_mae: 0.0137\n",
      "Epoch 19/50\n",
      "\u001b[1m4019/4019\u001b[0m \u001b[32m━━━━━━━━━━━━━━━━━━━━\u001b[0m\u001b[37m\u001b[0m \u001b[1m92s\u001b[0m 23ms/step - loss: 5.1908e-05 - mae: 0.0056 - val_loss: 6.6365e-04 - val_mae: 0.0209\n",
      "Epoch 20/50\n",
      "\u001b[1m4019/4019\u001b[0m \u001b[32m━━━━━━━━━━━━━━━━━━━━\u001b[0m\u001b[37m\u001b[0m \u001b[1m92s\u001b[0m 23ms/step - loss: 5.2621e-05 - mae: 0.0056 - val_loss: 4.8877e-04 - val_mae: 0.0170\n",
      "Epoch 21/50\n",
      "\u001b[1m4019/4019\u001b[0m \u001b[32m━━━━━━━━━━━━━━━━━━━━\u001b[0m\u001b[37m\u001b[0m \u001b[1m92s\u001b[0m 23ms/step - loss: 4.8775e-05 - mae: 0.0054 - val_loss: 2.5542e-04 - val_mae: 0.0133\n",
      "Epoch 22/50\n",
      "\u001b[1m4019/4019\u001b[0m \u001b[32m━━━━━━━━━━━━━━━━━━━━\u001b[0m\u001b[37m\u001b[0m \u001b[1m92s\u001b[0m 23ms/step - loss: 4.5618e-05 - mae: 0.0052 - val_loss: 7.2253e-04 - val_mae: 0.0226\n"
     ]
    }
   ],
   "source": [
    "import numpy as np\n",
    "import pandas as pd\n",
    "from tensorflow.keras.models import Model\n",
    "from tensorflow.keras.layers import (Input, Dense, Dropout, LayerNormalization, MultiHeadAttention, Add)\n",
    "from tensorflow.keras.optimizers import Adam\n",
    "from tensorflow.keras.callbacks import EarlyStopping\n",
    "\n",
    "def build_transformer_model(\n",
    "    input_shape, d_model=64, num_heads=4, ff_dim=128, dropout_rate=0.1\n",
    "):\n",
    "    inputs = Input(shape=input_shape)\n",
    "    # Project inputs to d_model dimensions\n",
    "    projected_inputs = Dense(d_model)(inputs)\n",
    "    attention_output = MultiHeadAttention(\n",
    "        num_heads=num_heads, key_dim=d_model\n",
    "    )(projected_inputs, projected_inputs)\n",
    "    attention_output = Dropout(dropout_rate)(attention_output)\n",
    "    attention_output = Add()([projected_inputs, attention_output])\n",
    "    attention_output = LayerNormalization(epsilon=1e-6)(attention_output)\n",
    "    ffn = Dense(ff_dim, activation='relu')(attention_output)\n",
    "    ffn = Dense(d_model)(ffn)\n",
    "    ffn = Dropout(dropout_rate)(ffn)\n",
    "    ffn_output = Add()([attention_output, ffn])\n",
    "    ffn_output = LayerNormalization(epsilon=1e-6)(ffn_output)\n",
    "    outputs = Dense(1)(ffn_output[:, -1, :])\n",
    "    model = Model(inputs=inputs, outputs=outputs)\n",
    "    model.compile(\n",
    "        optimizer=Adam(learning_rate=1e-4),\n",
    "        loss='mean_squared_error',\n",
    "        metrics=['mae']\n",
    "    )\n",
    "    return model\n",
    "\n",
    "input_shape = X_train.shape[1:]\n",
    "model = build_transformer_model(input_shape)\n",
    "model.summary()\n",
    "\n",
    "early_stopping = EarlyStopping(\n",
    "    monitor='val_loss',\n",
    "    patience=5,\n",
    "    restore_best_weights=True\n",
    ")\n",
    "\n",
    "history = model.fit(\n",
    "    X_train, y_train,\n",
    "    validation_data=(X_test, y_test),\n",
    "    epochs=50,\n",
    "    batch_size=32,\n",
    "    callbacks=[early_stopping],\n",
    "    verbose=1\n",
    ")"
   ]
  },
  {
   "cell_type": "code",
   "execution_count": 14,
   "metadata": {
    "id": "_NVt2s5FVbHL"
   },
   "outputs": [
    {
     "data": {
      "image/png": "[encoded data removed]",
      "text/plain": [
       "<Figure size 640x480 with 1 Axes>"
      ]
     },
     "metadata": {},
     "output_type": "display_data"
    }
   ],
   "source": [
    "import matplotlib.pyplot as plt\n",
    "\n",
    "plt.plot(history.history['loss'], label='Training Loss')\n",
    "plt.plot(history.history['val_loss'], label='Validation Loss')\n",
    "plt.xlabel('Epochs')\n",
    "plt.ylabel('Loss')\n",
    "plt.legend()\n",
    "plt.show()"
   ]
  },
  {
   "cell_type": "code",
   "execution_count": 15,
   "metadata": {},
   "outputs": [
    {
     "name": "stdout",
     "output_type": "stream",
     "text": [
      "\u001b[1m1005/1005\u001b[0m \u001b[32m━━━━━━━━━━━━━━━━━━━━\u001b[0m\u001b[37m\u001b[0m \u001b[1m8s\u001b[0m 8ms/step\n",
      "RMSE: 0.015263444681488322\n",
      "R² Score:0.9695656959997048\n"
     ]
    }
   ],
   "source": [
    "y_pred = model.predict(X_test)\n",
    "from sklearn.metrics import mean_squared_error, r2_score\n",
    "import numpy as np\n",
    "\n",
    "# Calculate RMSE\n",
    "rmse = np.sqrt(mean_squared_error(y_test, y_pred))\n",
    "print(f\"RMSE: {rmse}\")\n",
    "\n",
    "# Calculate R-squared\n",
    "r2 = r2_score(y_test, y_pred)\n",
    "print(f\"R² Score:{r2}\")"
   ]
  },
  {
   "cell_type": "markdown",
   "metadata": {
    "id": "R7x3ntSLVUM0"
   },
   "source": [
    "# Simple Averaging"
   ]
  },
  {
   "cell_type": "code",
   "execution_count": 16,
   "metadata": {},
   "outputs": [
    {
     "name": "stdout",
     "output_type": "stream",
     "text": [
      "Training set shape: (4669, 60, 16), (4669,)\n",
      "Testing set shape: (1168, 60, 16), (1168,)\n"
     ]
    }
   ],
   "source": [
    "import numpy as np\n",
    "import pandas as pd\n",
    "from sklearn.model_selection import TimeSeriesSplit\n",
    "from tensorflow.keras.models import Sequential\n",
    "from tensorflow.keras.layers import LSTM, Dense, Dropout\n",
    "from tensorflow.keras.optimizers import Adam\n",
    "from sklearn.model_selection import train_test_split\n",
    "\n",
    "\n",
    "def create_sequences(data, target_col, sequence_length=60):\n",
    "    sequences = []\n",
    "    targets = []\n",
    "    for i in range(len(data) - sequence_length):\n",
    "        seq = data.iloc[i:i+sequence_length].drop(columns=[target_col]).values\n",
    "        target = data.iloc[i+sequence_length][target_col]\n",
    "        sequences.append(seq)\n",
    "        targets.append(target)\n",
    "    return np.array(sequences), np.array(targets)\n",
    "\n",
    "sequence_length = 60\n",
    "target_col = 'Adj Close'\n",
    "\n",
    "X, y = create_sequences(hybrid_normalized, target_col, sequence_length)\n",
    "test_size = 0.2\n",
    "test_split_index = int(len(X) * (1 - test_size))\n",
    "\n",
    "Hybrid_X_train, Hybrid_X_test = X[:test_split_index], X[test_split_index:]\n",
    "Hybrid_y_train, Hybrid_y_test = y[:test_split_index], y[test_split_index:]\n",
    "\n",
    "print(f\"Training set shape: {Hybrid_X_train.shape}, {Hybrid_y_train.shape}\")\n",
    "print(f\"Testing set shape: {Hybrid_X_test.shape}, {Hybrid_y_test.shape}\")"
   ]
  },
  {
   "cell_type": "code",
   "execution_count": 17,
   "metadata": {},
   "outputs": [
    {
     "name": "stdout",
     "output_type": "stream",
     "text": [
      "\u001b[1m146/146\u001b[0m \u001b[32m━━━━━━━━━━━━━━━━━━━━\u001b[0m\u001b[37m\u001b[0m \u001b[1m6s\u001b[0m 38ms/step\n",
      "\u001b[1m146/146\u001b[0m \u001b[32m━━━━━━━━━━━━━━━━━━━━\u001b[0m\u001b[37m\u001b[0m \u001b[1m1s\u001b[0m 8ms/step\n",
      "RMSE: 0.020453786622507256\n",
      "R² Score:0.9927728683247217\n"
     ]
    }
   ],
   "source": [
    "lstm_training_predictions = Lstm_model.predict(Hybrid_X_train)\n",
    "transformer_training_predictions = model.predict(Hybrid_X_train)\n",
    "\n",
    "# Average the predictions\n",
    "final_predictions = (lstm_training_predictions + transformer_training_predictions)/2\n",
    "rmse = np.sqrt(mean_squared_error(final_predictions, Hybrid_y_train))\n",
    "print(f\"RMSE: {rmse}\")\n",
    "\n",
    "# Calculate R-squared\n",
    "r2 = r2_score(final_predictions, Hybrid_y_train)\n",
    "print(f\"R² Score:{r2}\")"
   ]
  },
  {
   "cell_type": "markdown",
   "metadata": {
    "id": "MJ9BkWr1VbrT"
   },
   "source": [
    "# Weighted Averaging"
   ]
  },
  {
   "cell_type": "code",
   "execution_count": 19,
   "metadata": {
    "id": "r2JNXM0DVeYH"
   },
   "outputs": [
    {
     "name": "stdout",
     "output_type": "stream",
     "text": [
      "RMSE: 0.023271682220420125\n",
      "R² Score:0.9903136336974384\n"
     ]
    }
   ],
   "source": [
    "weight_lstm = 0.1\n",
    "weight_transformer = 0.9\n",
    "final_predictions = weight_lstm * lstm_training_predictions + weight_transformer * transformer_training_predictions\n",
    "\n",
    "rmse = np.sqrt(mean_squared_error(final_predictions, Hybrid_y_train))\n",
    "print(f\"RMSE: {rmse}\")\n",
    "\n",
    "# Calculate R-squared\n",
    "r2 = r2_score(final_predictions, Hybrid_y_train)\n",
    "print(f\"R² Score:{r2}\")"
   ]
  },
  {
   "cell_type": "markdown",
   "metadata": {
    "id": "y010MtA0VgL_"
   },
   "source": [
    "# Stacking"
   ]
  },
  {
   "cell_type": "code",
   "execution_count": 23,
   "metadata": {
    "id": "Sq-AvinNVh5m"
   },
   "outputs": [
    {
     "name": "stdout",
     "output_type": "stream",
     "text": [
      "\u001b[1m37/37\u001b[0m \u001b[32m━━━━━━━━━━━━━━━━━━━━\u001b[0m\u001b[37m\u001b[0m \u001b[1m1s\u001b[0m 39ms/step\n",
      "\u001b[1m37/37\u001b[0m \u001b[32m━━━━━━━━━━━━━━━━━━━━\u001b[0m\u001b[37m\u001b[0m \u001b[1m0s\u001b[0m 8ms/step\n",
      "Mean Squared Error (MSE): 0.00\n",
      "Mean Absolute Error (MAE): 0.02\n",
      "R-squared (R2): 0.95\n"
     ]
    }
   ],
   "source": [
    "from sklearn.linear_model import LinearRegression\n",
    "\n",
    "# Create a new dataset with predictions from both models\n",
    "lstm_predictions = Lstm_model.predict(Hybrid_X_test)\n",
    "transformer_predictions = model.predict(Hybrid_X_test)\n",
    "combined_predictions = np.column_stack((lstm_training_predictions, transformer_training_predictions))\n",
    "combined_results = np.column_stack((lstm_predictions, transformer_predictions))\n",
    "\n",
    "from sklearn.linear_model import LinearRegression\n",
    "from sklearn.metrics import mean_squared_error, mean_absolute_error, r2_score\n",
    "import numpy as np\n",
    "\n",
    "# Initialize the Linear Regression model\n",
    "linear_regressor = LinearRegression()\n",
    "\n",
    "# Fit the model on the combined predictions\n",
    "linear_regressor.fit(combined_predictions, Hybrid_y_train)\n",
    "\n",
    "# Predict the final output\n",
    "final_predictions_lr = linear_regressor.predict(combined_results)\n",
    "\n",
    "# Evaluate the Linear Regression model\n",
    "mse = mean_squared_error(Hybrid_y_test, final_predictions_lr)\n",
    "mae = mean_absolute_error(Hybrid_y_test, final_predictions_lr)\n",
    "r2 = r2_score(Hybrid_y_test, final_predictions_lr)\n",
    "\n",
    "# Print evaluation metrics\n",
    "print(f\"Mean Squared Error (MSE): {mse:.2f}\")\n",
    "print(f\"Mean Absolute Error (MAE): {mae:.2f}\")\n",
    "print(f\"R-squared (R2): {r2:.2f}\")"
   ]
  },
  {
   "cell_type": "code",
   "execution_count": 37,
   "metadata": {},
   "outputs": [
    {
     "name": "stderr",
     "output_type": "stream",
     "text": [
      "/Library/Frameworks/Python.framework/Versions/3.12/lib/python3.12/site-packages/keras/src/layers/core/dense.py:85: UserWarning: Do not pass an `input_shape`/`input_dim` argument to a layer. When using Sequential models, prefer using an `Input(shape)` object as the first layer in the model instead.\n",
      "  super().__init__(activity_regularizer=activity_regularizer, **kwargs)\n"
     ]
    },
    {
     "name": "stdout",
     "output_type": "stream",
     "text": [
      "Epoch 1/50\n",
      "\u001b[1m117/117\u001b[0m \u001b[32m━━━━━━━━━━━━━━━━━━━━\u001b[0m\u001b[37m\u001b[0m \u001b[1m1s\u001b[0m 970us/step - loss: 0.0894 - mae: 0.1941 - val_loss: 0.0014 - val_mae: 0.0324\n",
      "Epoch 2/50\n",
      "\u001b[1m117/117\u001b[0m \u001b[32m━━━━━━━━━━━━━━━━━━━━\u001b[0m\u001b[37m\u001b[0m \u001b[1m0s\u001b[0m 466us/step - loss: 0.0062 - mae: 0.0574 - val_loss: 3.7335e-04 - val_mae: 0.0130\n",
      "Epoch 3/50\n",
      "\u001b[1m117/117\u001b[0m \u001b[32m━━━━━━━━━━━━━━━━━━━━\u001b[0m\u001b[37m\u001b[0m \u001b[1m0s\u001b[0m 477us/step - loss: 0.0048 - mae: 0.0502 - val_loss: 5.5365e-04 - val_mae: 0.0191\n",
      "Epoch 4/50\n",
      "\u001b[1m117/117\u001b[0m \u001b[32m━━━━━━━━━━━━━━━━━━━━\u001b[0m\u001b[37m\u001b[0m \u001b[1m0s\u001b[0m 449us/step - loss: 0.0044 - mae: 0.0478 - val_loss: 8.9533e-04 - val_mae: 0.0256\n",
      "Epoch 5/50\n",
      "\u001b[1m117/117\u001b[0m \u001b[32m━━━━━━━━━━━━━━━━━━━━\u001b[0m\u001b[37m\u001b[0m \u001b[1m0s\u001b[0m 475us/step - loss: 0.0039 - mae: 0.0459 - val_loss: 3.2769e-04 - val_mae: 0.0127\n",
      "Epoch 6/50\n",
      "\u001b[1m117/117\u001b[0m \u001b[32m━━━━━━━━━━━━━━━━━━━━\u001b[0m\u001b[37m\u001b[0m \u001b[1m0s\u001b[0m 474us/step - loss: 0.0035 - mae: 0.0436 - val_loss: 3.6509e-04 - val_mae: 0.0144\n",
      "Epoch 7/50\n",
      "\u001b[1m117/117\u001b[0m \u001b[32m━━━━━━━━━━━━━━━━━━━━\u001b[0m\u001b[37m\u001b[0m \u001b[1m0s\u001b[0m 457us/step - loss: 0.0034 - mae: 0.0427 - val_loss: 8.7693e-04 - val_mae: 0.0251\n",
      "Epoch 8/50\n",
      "\u001b[1m117/117\u001b[0m \u001b[32m━━━━━━━━━━━━━━━━━━━━\u001b[0m\u001b[37m\u001b[0m \u001b[1m0s\u001b[0m 496us/step - loss: 0.0031 - mae: 0.0407 - val_loss: 5.1939e-04 - val_mae: 0.0181\n",
      "Epoch 9/50\n",
      "\u001b[1m117/117\u001b[0m \u001b[32m━━━━━━━━━━━━━━━━━━━━\u001b[0m\u001b[37m\u001b[0m \u001b[1m0s\u001b[0m 462us/step - loss: 0.0029 - mae: 0.0400 - val_loss: 4.1498e-04 - val_mae: 0.0143\n",
      "Epoch 10/50\n",
      "\u001b[1m117/117\u001b[0m \u001b[32m━━━━━━━━━━━━━━━━━━━━\u001b[0m\u001b[37m\u001b[0m \u001b[1m0s\u001b[0m 452us/step - loss: 0.0029 - mae: 0.0399 - val_loss: 3.3851e-04 - val_mae: 0.0133\n",
      "Epoch 11/50\n",
      "\u001b[1m117/117\u001b[0m \u001b[32m━━━━━━━━━━━━━━━━━━━━\u001b[0m\u001b[37m\u001b[0m \u001b[1m0s\u001b[0m 458us/step - loss: 0.0028 - mae: 0.0386 - val_loss: 5.7406e-04 - val_mae: 0.0192\n",
      "Epoch 12/50\n",
      "\u001b[1m117/117\u001b[0m \u001b[32m━━━━━━━━━━━━━━━━━━━━\u001b[0m\u001b[37m\u001b[0m \u001b[1m0s\u001b[0m 449us/step - loss: 0.0026 - mae: 0.0378 - val_loss: 3.3669e-04 - val_mae: 0.0126\n",
      "Epoch 13/50\n",
      "\u001b[1m117/117\u001b[0m \u001b[32m━━━━━━━━━━━━━━━━━━━━\u001b[0m\u001b[37m\u001b[0m \u001b[1m0s\u001b[0m 452us/step - loss: 0.0027 - mae: 0.0372 - val_loss: 6.8603e-04 - val_mae: 0.0213\n",
      "Epoch 14/50\n",
      "\u001b[1m117/117\u001b[0m \u001b[32m━━━━━━━━━━━━━━━━━━━━\u001b[0m\u001b[37m\u001b[0m \u001b[1m0s\u001b[0m 1ms/step - loss: 0.0025 - mae: 0.0366 - val_loss: 3.4042e-04 - val_mae: 0.0132\n",
      "Epoch 15/50\n",
      "\u001b[1m117/117\u001b[0m \u001b[32m━━━━━━━━━━━━━━━━━━━━\u001b[0m\u001b[37m\u001b[0m \u001b[1m0s\u001b[0m 473us/step - loss: 0.0023 - mae: 0.0357 - val_loss: 3.8158e-04 - val_mae: 0.0149\n",
      "Epoch 16/50\n",
      "\u001b[1m117/117\u001b[0m \u001b[32m━━━━━━━━━━━━━━━━━━━━\u001b[0m\u001b[37m\u001b[0m \u001b[1m0s\u001b[0m 473us/step - loss: 0.0022 - mae: 0.0352 - val_loss: 7.1780e-04 - val_mae: 0.0218\n",
      "Epoch 17/50\n",
      "\u001b[1m117/117\u001b[0m \u001b[32m━━━━━━━━━━━━━━━━━━━━\u001b[0m\u001b[37m\u001b[0m \u001b[1m0s\u001b[0m 468us/step - loss: 0.0021 - mae: 0.0344 - val_loss: 3.7578e-04 - val_mae: 0.0147\n",
      "Epoch 18/50\n",
      "\u001b[1m117/117\u001b[0m \u001b[32m━━━━━━━━━━━━━━━━━━━━\u001b[0m\u001b[37m\u001b[0m \u001b[1m0s\u001b[0m 479us/step - loss: 0.0022 - mae: 0.0349 - val_loss: 4.4180e-04 - val_mae: 0.0165\n",
      "Epoch 19/50\n",
      "\u001b[1m117/117\u001b[0m \u001b[32m━━━━━━━━━━━━━━━━━━━━\u001b[0m\u001b[37m\u001b[0m \u001b[1m0s\u001b[0m 453us/step - loss: 0.0021 - mae: 0.0347 - val_loss: 3.4070e-04 - val_mae: 0.0132\n",
      "Epoch 20/50\n",
      "\u001b[1m117/117\u001b[0m \u001b[32m━━━━━━━━━━━━━━━━━━━━\u001b[0m\u001b[37m\u001b[0m \u001b[1m0s\u001b[0m 468us/step - loss: 0.0020 - mae: 0.0339 - val_loss: 3.7210e-04 - val_mae: 0.0146\n",
      "Epoch 21/50\n",
      "\u001b[1m117/117\u001b[0m \u001b[32m━━━━━━━━━━━━━━━━━━━━\u001b[0m\u001b[37m\u001b[0m \u001b[1m0s\u001b[0m 459us/step - loss: 0.0020 - mae: 0.0335 - val_loss: 3.9257e-04 - val_mae: 0.0152\n",
      "Epoch 22/50\n",
      "\u001b[1m117/117\u001b[0m \u001b[32m━━━━━━━━━━━━━━━━━━━━\u001b[0m\u001b[37m\u001b[0m \u001b[1m0s\u001b[0m 475us/step - loss: 0.0019 - mae: 0.0329 - val_loss: 3.3988e-04 - val_mae: 0.0129\n",
      "Epoch 23/50\n",
      "\u001b[1m117/117\u001b[0m \u001b[32m━━━━━━━━━━━━━━━━━━━━\u001b[0m\u001b[37m\u001b[0m \u001b[1m0s\u001b[0m 515us/step - loss: 0.0020 - mae: 0.0338 - val_loss: 3.7633e-04 - val_mae: 0.0147\n",
      "Epoch 24/50\n",
      "\u001b[1m117/117\u001b[0m \u001b[32m━━━━━━━━━━━━━━━━━━━━\u001b[0m\u001b[37m\u001b[0m \u001b[1m0s\u001b[0m 462us/step - loss: 0.0018 - mae: 0.0326 - val_loss: 5.5437e-04 - val_mae: 0.0189\n",
      "Epoch 25/50\n",
      "\u001b[1m117/117\u001b[0m \u001b[32m━━━━━━━━━━━━━━━━━━━━\u001b[0m\u001b[37m\u001b[0m \u001b[1m0s\u001b[0m 486us/step - loss: 0.0018 - mae: 0.0319 - val_loss: 4.6356e-04 - val_mae: 0.0169\n",
      "Epoch 26/50\n",
      "\u001b[1m117/117\u001b[0m \u001b[32m━━━━━━━━━━━━━━━━━━━━\u001b[0m\u001b[37m\u001b[0m \u001b[1m0s\u001b[0m 446us/step - loss: 0.0016 - mae: 0.0305 - val_loss: 3.2577e-04 - val_mae: 0.0124\n",
      "Epoch 27/50\n",
      "\u001b[1m117/117\u001b[0m \u001b[32m━━━━━━━━━━━━━━━━━━━━\u001b[0m\u001b[37m\u001b[0m \u001b[1m0s\u001b[0m 459us/step - loss: 0.0018 - mae: 0.0316 - val_loss: 3.3107e-04 - val_mae: 0.0126\n",
      "Epoch 28/50\n",
      "\u001b[1m117/117\u001b[0m \u001b[32m━━━━━━━━━━━━━━━━━━━━\u001b[0m\u001b[37m\u001b[0m \u001b[1m0s\u001b[0m 457us/step - loss: 0.0018 - mae: 0.0315 - val_loss: 4.0404e-04 - val_mae: 0.0138\n",
      "Epoch 29/50\n",
      "\u001b[1m117/117\u001b[0m \u001b[32m━━━━━━━━━━━━━━━━━━━━\u001b[0m\u001b[37m\u001b[0m \u001b[1m0s\u001b[0m 457us/step - loss: 0.0016 - mae: 0.0310 - val_loss: 3.9609e-04 - val_mae: 0.0135\n",
      "Epoch 30/50\n",
      "\u001b[1m117/117\u001b[0m \u001b[32m━━━━━━━━━━━━━━━━━━━━\u001b[0m\u001b[37m\u001b[0m \u001b[1m0s\u001b[0m 476us/step - loss: 0.0016 - mae: 0.0307 - val_loss: 3.2151e-04 - val_mae: 0.0122\n",
      "Epoch 31/50\n",
      "\u001b[1m117/117\u001b[0m \u001b[32m━━━━━━━━━━━━━━━━━━━━\u001b[0m\u001b[37m\u001b[0m \u001b[1m0s\u001b[0m 468us/step - loss: 0.0016 - mae: 0.0307 - val_loss: 6.7531e-04 - val_mae: 0.0217\n",
      "Epoch 32/50\n",
      "\u001b[1m117/117\u001b[0m \u001b[32m━━━━━━━━━━━━━━━━━━━━\u001b[0m\u001b[37m\u001b[0m \u001b[1m0s\u001b[0m 476us/step - loss: 0.0016 - mae: 0.0303 - val_loss: 5.1991e-04 - val_mae: 0.0166\n",
      "Epoch 33/50\n",
      "\u001b[1m117/117\u001b[0m \u001b[32m━━━━━━━━━━━━━━━━━━━━\u001b[0m\u001b[37m\u001b[0m \u001b[1m0s\u001b[0m 489us/step - loss: 0.0016 - mae: 0.0301 - val_loss: 3.3379e-04 - val_mae: 0.0130\n",
      "Epoch 34/50\n",
      "\u001b[1m117/117\u001b[0m \u001b[32m━━━━━━━━━━━━━━━━━━━━\u001b[0m\u001b[37m\u001b[0m \u001b[1m0s\u001b[0m 477us/step - loss: 0.0015 - mae: 0.0296 - val_loss: 3.5309e-04 - val_mae: 0.0138\n",
      "Epoch 35/50\n",
      "\u001b[1m117/117\u001b[0m \u001b[32m━━━━━━━━━━━━━━━━━━━━\u001b[0m\u001b[37m\u001b[0m \u001b[1m0s\u001b[0m 463us/step - loss: 0.0014 - mae: 0.0288 - val_loss: 3.7672e-04 - val_mae: 0.0146\n",
      "Epoch 36/50\n",
      "\u001b[1m117/117\u001b[0m \u001b[32m━━━━━━━━━━━━━━━━━━━━\u001b[0m\u001b[37m\u001b[0m \u001b[1m0s\u001b[0m 453us/step - loss: 0.0013 - mae: 0.0276 - val_loss: 3.5686e-04 - val_mae: 0.0139\n",
      "Epoch 37/50\n",
      "\u001b[1m117/117\u001b[0m \u001b[32m━━━━━━━━━━━━━━━━━━━━\u001b[0m\u001b[37m\u001b[0m \u001b[1m0s\u001b[0m 480us/step - loss: 0.0015 - mae: 0.0295 - val_loss: 3.6458e-04 - val_mae: 0.0125\n",
      "Epoch 38/50\n",
      "\u001b[1m117/117\u001b[0m \u001b[32m━━━━━━━━━━━━━━━━━━━━\u001b[0m\u001b[37m\u001b[0m \u001b[1m0s\u001b[0m 461us/step - loss: 0.0014 - mae: 0.0292 - val_loss: 3.5266e-04 - val_mae: 0.0123\n",
      "Epoch 39/50\n",
      "\u001b[1m117/117\u001b[0m \u001b[32m━━━━━━━━━━━━━━━━━━━━\u001b[0m\u001b[37m\u001b[0m \u001b[1m0s\u001b[0m 495us/step - loss: 0.0014 - mae: 0.0285 - val_loss: 3.7002e-04 - val_mae: 0.0143\n",
      "Epoch 40/50\n",
      "\u001b[1m117/117\u001b[0m \u001b[32m━━━━━━━━━━━━━━━━━━━━\u001b[0m\u001b[37m\u001b[0m \u001b[1m0s\u001b[0m 477us/step - loss: 0.0014 - mae: 0.0291 - val_loss: 6.9203e-04 - val_mae: 0.0222\n",
      "Epoch 41/50\n",
      "\u001b[1m117/117\u001b[0m \u001b[32m━━━━━━━━━━━━━━━━━━━━\u001b[0m\u001b[37m\u001b[0m \u001b[1m0s\u001b[0m 456us/step - loss: 0.0016 - mae: 0.0299 - val_loss: 3.4962e-04 - val_mae: 0.0136\n",
      "Epoch 42/50\n",
      "\u001b[1m117/117\u001b[0m \u001b[32m━━━━━━━━━━━━━━━━━━━━\u001b[0m\u001b[37m\u001b[0m \u001b[1m0s\u001b[0m 491us/step - loss: 0.0014 - mae: 0.0289 - val_loss: 3.4414e-04 - val_mae: 0.0133\n",
      "Epoch 43/50\n",
      "\u001b[1m117/117\u001b[0m \u001b[32m━━━━━━━━━━━━━━━━━━━━\u001b[0m\u001b[37m\u001b[0m \u001b[1m0s\u001b[0m 456us/step - loss: 0.0015 - mae: 0.0292 - val_loss: 8.0488e-04 - val_mae: 0.0241\n",
      "Epoch 44/50\n",
      "\u001b[1m117/117\u001b[0m \u001b[32m━━━━━━━━━━━━━━━━━━━━\u001b[0m\u001b[37m\u001b[0m \u001b[1m0s\u001b[0m 456us/step - loss: 0.0014 - mae: 0.0283 - val_loss: 5.0828e-04 - val_mae: 0.0181\n",
      "Epoch 45/50\n",
      "\u001b[1m117/117\u001b[0m \u001b[32m━━━━━━━━━━━━━━━━━━━━\u001b[0m\u001b[37m\u001b[0m \u001b[1m0s\u001b[0m 449us/step - loss: 0.0014 - mae: 0.0282 - val_loss: 3.5690e-04 - val_mae: 0.0138\n",
      "Epoch 46/50\n",
      "\u001b[1m117/117\u001b[0m \u001b[32m━━━━━━━━━━━━━━━━━━━━\u001b[0m\u001b[37m\u001b[0m \u001b[1m0s\u001b[0m 436us/step - loss: 0.0014 - mae: 0.0279 - val_loss: 3.6608e-04 - val_mae: 0.0141\n",
      "Epoch 47/50\n",
      "\u001b[1m117/117\u001b[0m \u001b[32m━━━━━━━━━━━━━━━━━━━━\u001b[0m\u001b[37m\u001b[0m \u001b[1m0s\u001b[0m 452us/step - loss: 0.0013 - mae: 0.0277 - val_loss: 5.0236e-04 - val_mae: 0.0177\n",
      "Epoch 48/50\n",
      "\u001b[1m117/117\u001b[0m \u001b[32m━━━━━━━━━━━━━━━━━━━━\u001b[0m\u001b[37m\u001b[0m \u001b[1m0s\u001b[0m 457us/step - loss: 0.0014 - mae: 0.0286 - val_loss: 6.6661e-04 - val_mae: 0.0215\n",
      "Epoch 49/50\n",
      "\u001b[1m117/117\u001b[0m \u001b[32m━━━━━━━━━━━━━━━━━━━━\u001b[0m\u001b[37m\u001b[0m \u001b[1m0s\u001b[0m 448us/step - loss: 0.0013 - mae: 0.0271 - val_loss: 3.4244e-04 - val_mae: 0.0131\n",
      "Epoch 50/50\n",
      "\u001b[1m117/117\u001b[0m \u001b[32m━━━━━━━━━━━━━━━━━━━━\u001b[0m\u001b[37m\u001b[0m \u001b[1m0s\u001b[0m 1ms/step - loss: 0.0015 - mae: 0.0289 - val_loss: 3.2921e-04 - val_mae: 0.0123\n",
      "\u001b[1m37/37\u001b[0m \u001b[32m━━━━━━━━━━━━━━━━━━━━\u001b[0m\u001b[37m\u001b[0m \u001b[1m0s\u001b[0m 543us/step\n",
      "RMSE: 0.0006715426880682909\n",
      "Mean Squared Error (MSE): 0.00\n",
      "Mean Absolute Error (MAE): 0.02\n",
      "R-squared (R2): 0.94\n"
     ]
    }
   ],
   "source": [
    "from tensorflow.keras.models import Sequential\n",
    "from tensorflow.keras.layers import Dense, Dropout\n",
    "from tensorflow.keras.optimizers import Adam\n",
    "from tensorflow.keras.callbacks import EarlyStopping\n",
    "from sklearn.metrics import mean_squared_error, mean_absolute_error, r2_score\n",
    "import numpy as np\n",
    "\n",
    "# Define the neural network architecture\n",
    "def build_neural_network(input_dim):\n",
    "    model = Sequential()\n",
    "    model.add(Dense(128, activation='relu', input_dim=input_dim))  # Input layer\n",
    "    model.add(Dropout(0.2))  # Dropout to reduce overfitting\n",
    "    model.add(Dense(64, activation='relu'))  # Hidden layer\n",
    "    model.add(Dropout(0.2))  # Dropout to reduce overfitting\n",
    "    model.add(Dense(1))  # Output layer (regression)\n",
    "    model.compile(optimizer=Adam(learning_rate=0.001), loss='mean_squared_error', metrics=['mae'])\n",
    "    return model\n",
    "\n",
    "# Get the input dimensions (number of features)\n",
    "input_dim = combined_predictions.shape[1]\n",
    "\n",
    "# Build the model\n",
    "nn_model = build_neural_network(input_dim)\n",
    "\n",
    "# Define EarlyStopping callback\n",
    "early_stopping = EarlyStopping(\n",
    "    monitor='val_loss',  # Monitors validation loss\n",
    "    patience=5,          # Stops training after 5 epochs without improvement\n",
    "    restore_best_weights=True  # Restores best weights\n",
    ")\n",
    "\n",
    "# Train the neural network\n",
    "history = nn_model.fit(\n",
    "    combined_predictions, \n",
    "    y, \n",
    "    validation_split=0.2,  # Use 20% of the data for validation\n",
    "    epochs=50, \n",
    "    batch_size=32, \n",
    "    verbose=1\n",
    ")\n",
    "\n",
    "# Predict the final output\n",
    "final_predictions_nn = nn_model.predict(combined_results)\n",
    "\n",
    "# Evaluate the Neural Network model\n",
    "mse = mean_squared_error(Hybrid_y_test, final_predictions_nn)\n",
    "mae = mean_absolute_error(Hybrid_y_test, final_predictions_nn)\n",
    "r2 = r2_score(Hybrid_y_test, final_predictions_nn)\n",
    "\n",
    "rmse = mean_squared_error(Hybrid_y_test, final_predictions_nn)\n",
    "print(f\"RMSE: {rmse}\")\n",
    "\n",
    "# Print evaluation metrics\n",
    "print(f\"Mean Squared Error (MSE): {mse:.2f}\")\n",
    "print(f\"Mean Absolute Error (MAE): {mae:.2f}\")\n",
    "print(f\"R-squared (R2): {r2:.2f}\")"
   ]
  },
  {
   "cell_type": "code",
   "execution_count": 36,
   "metadata": {},
   "outputs": [
    {
     "data": {
      "image/png": "[encoded data removed]",
      "text/plain": [
       "<Figure size 640x480 with 1 Axes>"
      ]
     },
     "metadata": {},
     "output_type": "display_data"
    }
   ],
   "source": [
    "import matplotlib.pyplot as plt\n",
    "\n",
    "plt.plot(history.history['loss'], label='Training Loss')\n",
    "plt.plot(history.history['val_loss'], label='Validation Loss')\n",
    "plt.xlabel('Epochs')\n",
    "plt.ylabel('Loss')\n",
    "plt.legend()\n",
    "plt.show()"
   ]
  },
  {
   "cell_type": "markdown",
   "metadata": {
    "id": "rScFrDntViZL"
   },
   "source": [
    "# Compairing Results"
   ]
  },
  {
   "cell_type": "code",
   "execution_count": 34,
   "metadata": {},
   "outputs": [],
   "source": [
    "Lstm_model.save('lstm_model.keras')"
   ]
  },
  {
   "cell_type": "code",
   "execution_count": 35,
   "metadata": {
    "id": "DbKHNa91Vk5E"
   },
   "outputs": [],
   "source": [
    "model.save('model.keras')"
   ]
  },
  {
   "cell_type": "markdown",
   "metadata": {
    "id": "4tRlQYu0Vx_d"
   },
   "source": [
    "# Conclusion"
   ]
  },
  {
   "cell_type": "code",
   "execution_count": null,
   "metadata": {
    "id": "_DEbJxxTVzfG"
   },
   "outputs": [],
   "source": []
  }
 ],
 "metadata": {
  "colab": {
   "collapsed_sections": [
    "R7x3ntSLVUM0",
    "MJ9BkWr1VbrT",
    "y010MtA0VgL_",
    "rScFrDntViZL"
   ],
   "provenance": []
  },
  "kernelspec": {
   "display_name": "Python 3 (ipykernel)",
   "language": "python",
   "name": "python3"
  },
  "language_info": {
   "codemirror_mode": {
    "name": "ipython",
    "version": 3
   },
   "file_extension": ".py",
   "mimetype": "text/x-python",
   "name": "python",
   "nbconvert_exporter": "python",
   "pygments_lexer": "ipython3",
   "version": "3.12.0"
  }
 },
 "nbformat": 4,
 "nbformat_minor": 4
}
